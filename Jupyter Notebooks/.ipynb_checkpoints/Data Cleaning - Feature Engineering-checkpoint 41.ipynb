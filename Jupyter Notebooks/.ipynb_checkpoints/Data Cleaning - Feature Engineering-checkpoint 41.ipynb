{
 "cells": [
  {
   "cell_type": "markdown",
   "metadata": {},
   "source": [
    "# Data Cleaning / Feature Engineering"
   ]
  },
  {
   "cell_type": "code",
   "execution_count": 1,
   "metadata": {},
   "outputs": [],
   "source": [
    "# Important Libraries\n",
    "import pandas as pd\n",
    "import matplotlib.pyplot as plt\n",
    "import datetime as dt\n",
    "import numpy as np\n",
    "\n",
    "from sklearn.cluster import KMeans\n",
    "from sklearn.impute import SimpleImputer\n",
    "from sklearn.preprocessing import StandardScaler\n",
    "from prince import FAMD\n",
    "import plotly.express as pex\n",
    "\n",
    "%matplotlib inline"
   ]
  },
  {
   "cell_type": "markdown",
   "metadata": {},
   "source": [
    "## 1. Importing Data"
   ]
  },
  {
   "cell_type": "markdown",
   "metadata": {},
   "source": [
    "These datasets can be found in the following Kaggle link: https://www.kaggle.com/jeanmidev/smart-meters-in-london"
   ]
  },
  {
   "cell_type": "code",
   "execution_count": 2,
   "metadata": {},
   "outputs": [],
   "source": [
    "#importing Information_Households.csv\n",
    "infohouse_df = pd.read_csv('/Users/nicolasrosal/Desktop/Machine Learning Projects/SM_London/Info, Acorns & Holidays/informations_households.csv')"
   ]
  },
  {
   "cell_type": "code",
   "execution_count": 3,
   "metadata": {},
   "outputs": [],
   "source": [
    "#Creating a daily_df out of daily_blocks\n",
    "daily_df = pd.DataFrame()\n",
    "\n",
    "for num in range(0, 112):\n",
    "    block = pd.read_csv('/Users/nicolasrosal/Desktop/Machine Learning Projects/SM_London/daily_dataset/daily_dataset/block_' + str(num)+ '.csv')\n",
    "    block = block[['LCLid', 'day', 'energy_sum']] \n",
    "    daily_df = pd.concat([daily_df, block])"
   ]
  },
  {
   "cell_type": "code",
   "execution_count": 4,
   "metadata": {},
   "outputs": [],
   "source": [
    "#Creating a halfhour_df out of hhblocks\n",
    "halfhour_df = pd.DataFrame()\n",
    "\n",
    "for num in range(0, 112):\n",
    "    block = pd.read_csv('/Users/nicolasrosal/Desktop/Machine Learning Projects/SM_London/hhblock_dataset/hhblock_dataset/block_' + str(num) + '.csv')\n",
    "    halfhour_df = pd.concat([halfhour_df, block])"
   ]
  },
  {
   "cell_type": "code",
   "execution_count": 5,
   "metadata": {},
   "outputs": [],
   "source": [
    "#Importing weather dataframe\n",
    "weather_df = pd.read_csv('/Users/nicolasrosal/Desktop/Machine Learning Projects/SM_London/Weather Data/weather_daily_darksky.csv')"
   ]
  },
  {
   "cell_type": "code",
   "execution_count": 6,
   "metadata": {},
   "outputs": [],
   "source": [
    "#Importing holiday dataframe\n",
    "holiday_df = pd.read_csv('/Users/nicolasrosal/Desktop/Machine Learning Projects/SM_London/Info, Acorns & Holidays/uk_bank_holidays.csv')\n",
    "holiday_df['Bank holidays'] = pd.to_datetime(holiday_df['Bank holidays'])\n"
   ]
  },
  {
   "cell_type": "markdown",
   "metadata": {},
   "source": [
    "***"
   ]
  },
  {
   "cell_type": "markdown",
   "metadata": {},
   "source": [
    "## 2. Data Cleaning and Feature Engineering"
   ]
  },
  {
   "cell_type": "markdown",
   "metadata": {},
   "source": [
    "### infohouse_df"
   ]
  },
  {
   "cell_type": "markdown",
   "metadata": {},
   "source": [
    "- <u>Data Cleaning</u>:"
   ]
  },
  {
   "cell_type": "code",
   "execution_count": 7,
   "metadata": {},
   "outputs": [
    {
     "name": "stdout",
     "output_type": "stream",
     "text": [
      "Checking head:\n",
      "\n",
      "       LCLid stdorToU    Acorn Acorn_grouped     file\n",
      "0  MAC005492      ToU   ACORN-        ACORN-  block_0\n",
      "1  MAC001074      ToU   ACORN-        ACORN-  block_0\n",
      "2  MAC000002      Std  ACORN-A      Affluent  block_0\n",
      "3  MAC003613      Std  ACORN-A      Affluent  block_0\n",
      "4  MAC003597      Std  ACORN-A      Affluent  block_0\n"
     ]
    }
   ],
   "source": [
    "#Printing First 5 Rows\n",
    "print('Checking head:\\n\\n{}'.format(infohouse_df.head()))"
   ]
  },
  {
   "cell_type": "code",
   "execution_count": 8,
   "metadata": {},
   "outputs": [
    {
     "name": "stdout",
     "output_type": "stream",
     "text": [
      "Checking for NANs:\n",
      "\n",
      "LCLid            0\n",
      "stdorToU         0\n",
      "Acorn            0\n",
      "Acorn_grouped    0\n",
      "file             0\n",
      "dtype: int64\n"
     ]
    }
   ],
   "source": [
    "# Checking for missing values\n",
    "print('Checking for NANs:\\n\\n{}'.format(infohouse_df.isnull().sum()))"
   ]
  },
  {
   "cell_type": "code",
   "execution_count": 9,
   "metadata": {},
   "outputs": [
    {
     "name": "stdout",
     "output_type": "stream",
     "text": [
      "Checking statistical data:\n",
      "\n",
      "            LCLid stdorToU    Acorn Acorn_grouped      file\n",
      "count        5566     5566     5566          5566      5566\n",
      "unique       5566        2       19             5       112\n",
      "top     MAC003864      Std  ACORN-E      Affluent  block_20\n",
      "freq            1     4443     1567          2192        50\n"
     ]
    }
   ],
   "source": [
    "# Checking for inconsistencies in data\n",
    "print('Checking statistical data:\\n\\n{}'.format(infohouse_df.describe()))"
   ]
  },
  {
   "cell_type": "code",
   "execution_count": 10,
   "metadata": {},
   "outputs": [
    {
     "name": "stdout",
     "output_type": "stream",
     "text": [
      "Checking data types:\n",
      "\n",
      "LCLid            object\n",
      "stdorToU         object\n",
      "Acorn            object\n",
      "Acorn_grouped    object\n",
      "file             object\n",
      "dtype: object\n"
     ]
    }
   ],
   "source": [
    "# Checking for data types\n",
    "print('Checking data types:\\n\\n{}'.format(infohouse_df.dtypes))"
   ]
  },
  {
   "cell_type": "markdown",
   "metadata": {},
   "source": [
    "***"
   ]
  },
  {
   "cell_type": "markdown",
   "metadata": {},
   "source": [
    "<i>We decided to drop the 'file' column since it did not contain useful information to predict energy consumption.</i>"
   ]
  },
  {
   "cell_type": "code",
   "execution_count": 11,
   "metadata": {},
   "outputs": [
    {
     "data": {
      "text/html": [
       "<div>\n",
       "<style scoped>\n",
       "    .dataframe tbody tr th:only-of-type {\n",
       "        vertical-align: middle;\n",
       "    }\n",
       "\n",
       "    .dataframe tbody tr th {\n",
       "        vertical-align: top;\n",
       "    }\n",
       "\n",
       "    .dataframe thead th {\n",
       "        text-align: right;\n",
       "    }\n",
       "</style>\n",
       "<table border=\"1\" class=\"dataframe\">\n",
       "  <thead>\n",
       "    <tr style=\"text-align: right;\">\n",
       "      <th></th>\n",
       "      <th>LCLid</th>\n",
       "      <th>stdorToU</th>\n",
       "      <th>Acorn</th>\n",
       "      <th>Acorn_grouped</th>\n",
       "    </tr>\n",
       "  </thead>\n",
       "  <tbody>\n",
       "    <tr>\n",
       "      <th>0</th>\n",
       "      <td>MAC005492</td>\n",
       "      <td>ToU</td>\n",
       "      <td>ACORN-</td>\n",
       "      <td>ACORN-</td>\n",
       "    </tr>\n",
       "    <tr>\n",
       "      <th>1</th>\n",
       "      <td>MAC001074</td>\n",
       "      <td>ToU</td>\n",
       "      <td>ACORN-</td>\n",
       "      <td>ACORN-</td>\n",
       "    </tr>\n",
       "    <tr>\n",
       "      <th>2</th>\n",
       "      <td>MAC000002</td>\n",
       "      <td>Std</td>\n",
       "      <td>ACORN-A</td>\n",
       "      <td>Affluent</td>\n",
       "    </tr>\n",
       "    <tr>\n",
       "      <th>3</th>\n",
       "      <td>MAC003613</td>\n",
       "      <td>Std</td>\n",
       "      <td>ACORN-A</td>\n",
       "      <td>Affluent</td>\n",
       "    </tr>\n",
       "    <tr>\n",
       "      <th>4</th>\n",
       "      <td>MAC003597</td>\n",
       "      <td>Std</td>\n",
       "      <td>ACORN-A</td>\n",
       "      <td>Affluent</td>\n",
       "    </tr>\n",
       "  </tbody>\n",
       "</table>\n",
       "</div>"
      ],
      "text/plain": [
       "       LCLid stdorToU    Acorn Acorn_grouped\n",
       "0  MAC005492      ToU   ACORN-        ACORN-\n",
       "1  MAC001074      ToU   ACORN-        ACORN-\n",
       "2  MAC000002      Std  ACORN-A      Affluent\n",
       "3  MAC003613      Std  ACORN-A      Affluent\n",
       "4  MAC003597      Std  ACORN-A      Affluent"
      ]
     },
     "execution_count": 11,
     "metadata": {},
     "output_type": "execute_result"
    }
   ],
   "source": [
    "#drop 'file' column\n",
    "infohouse_df.drop('file', axis = 1, inplace = True)\n",
    "infohouse_df.head()"
   ]
  },
  {
   "cell_type": "markdown",
   "metadata": {},
   "source": [
    "***"
   ]
  },
  {
   "cell_type": "markdown",
   "metadata": {},
   "source": [
    "### daily_df"
   ]
  },
  {
   "cell_type": "markdown",
   "metadata": {},
   "source": [
    "- <u>Data Cleaning</u>:"
   ]
  },
  {
   "cell_type": "code",
   "execution_count": 12,
   "metadata": {},
   "outputs": [
    {
     "name": "stdout",
     "output_type": "stream",
     "text": [
      "Checking head:\n",
      "\n",
      "       LCLid         day  energy_sum\n",
      "0  MAC000002  2012-10-12       7.098\n",
      "1  MAC000002  2012-10-13      11.087\n",
      "2  MAC000002  2012-10-14      13.223\n",
      "3  MAC000002  2012-10-15      10.257\n",
      "4  MAC000002  2012-10-16       9.769\n"
     ]
    }
   ],
   "source": [
    "#Printing First 5 Rows\n",
    "print('Checking head:\\n\\n{}'.format(daily_df.head()))"
   ]
  },
  {
   "cell_type": "code",
   "execution_count": 13,
   "metadata": {},
   "outputs": [
    {
     "name": "stdout",
     "output_type": "stream",
     "text": [
      "Checking for NANs in daily_df:\n",
      "\n",
      "LCLid          0\n",
      "day            0\n",
      "energy_sum    30\n",
      "dtype: int64\n"
     ]
    }
   ],
   "source": [
    "# Checking for missing values\n",
    "print('Checking for NANs in daily_df:\\n\\n{}'.format(daily_df.isnull().sum()))"
   ]
  },
  {
   "cell_type": "code",
   "execution_count": 14,
   "metadata": {},
   "outputs": [
    {
     "name": "stdout",
     "output_type": "stream",
     "text": [
      "Checking statistical data:\n",
      "\n",
      "         energy_sum\n",
      "count  3.510403e+06\n",
      "mean   1.012414e+01\n",
      "std    9.128793e+00\n",
      "min    0.000000e+00\n",
      "25%    4.682000e+00\n",
      "50%    7.815000e+00\n",
      "75%    1.256900e+01\n",
      "max    3.325560e+02\n"
     ]
    }
   ],
   "source": [
    "# Checking for inconsistencies in data\n",
    "print('Checking statistical data:\\n\\n{}'.format(daily_df.describe()))"
   ]
  },
  {
   "cell_type": "code",
   "execution_count": 15,
   "metadata": {},
   "outputs": [
    {
     "name": "stdout",
     "output_type": "stream",
     "text": [
      "Checking data types:\n",
      "\n",
      "LCLid          object\n",
      "day            object\n",
      "energy_sum    float64\n",
      "dtype: object\n"
     ]
    }
   ],
   "source": [
    "# Checking for data types\n",
    "print('Checking data types:\\n\\n{}'.format(daily_df.dtypes))"
   ]
  },
  {
   "cell_type": "markdown",
   "metadata": {},
   "source": [
    "***"
   ]
  },
  {
   "cell_type": "markdown",
   "metadata": {},
   "source": [
    "The 'day' column should be in datetime64 datatype. "
   ]
  },
  {
   "cell_type": "code",
   "execution_count": 16,
   "metadata": {},
   "outputs": [],
   "source": [
    "#Changing data type of 'day' column\n",
    "daily_df['day'] = pd.to_datetime(daily_df['day'])"
   ]
  },
  {
   "cell_type": "markdown",
   "metadata": {},
   "source": [
    "We found that 'energy_sum' contains 30 missing values. Hence, we decided to use a simple imputer to replaces these with the median of the column."
   ]
  },
  {
   "cell_type": "code",
   "execution_count": 17,
   "metadata": {},
   "outputs": [],
   "source": [
    "#Using median to replace missing values in 'energy_sum'\n",
    "imp_median = SimpleImputer(missing_values=np.nan, strategy='median')\n",
    "daily_df['energy_sum'] = imp_median.fit_transform(daily_df[['energy_sum']])"
   ]
  },
  {
   "cell_type": "markdown",
   "metadata": {},
   "source": [
    "***"
   ]
  },
  {
   "cell_type": "markdown",
   "metadata": {},
   "source": [
    "### halfhour_df"
   ]
  },
  {
   "cell_type": "markdown",
   "metadata": {},
   "source": [
    "- <u>Data Cleaning</u>:"
   ]
  },
  {
   "cell_type": "code",
   "execution_count": 18,
   "metadata": {},
   "outputs": [
    {
     "name": "stdout",
     "output_type": "stream",
     "text": [
      "Checking head:\n",
      "\n",
      "       LCLid         day   hh_0   hh_1   hh_2   hh_3   hh_4   hh_5   hh_6  \\\n",
      "0  MAC000002  2012-10-13  0.263  0.269  0.275  0.256  0.211  0.136  0.161   \n",
      "1  MAC000002  2012-10-14  0.262  0.166  0.226  0.088  0.126  0.082  0.123   \n",
      "2  MAC000002  2012-10-15  0.192  0.097  0.141  0.083  0.132  0.070  0.130   \n",
      "3  MAC000002  2012-10-16  0.237  0.237  0.193  0.118  0.098  0.107  0.094   \n",
      "4  MAC000002  2012-10-17  0.157  0.211  0.155  0.169  0.101  0.117  0.084   \n",
      "\n",
      "    hh_7  ...  hh_38  hh_39  hh_40  hh_41  hh_42  hh_43  hh_44  hh_45  hh_46  \\\n",
      "0  0.119  ...  0.918  0.278  0.267  0.239  0.230  0.233  0.235  0.188  0.259   \n",
      "1  0.083  ...  1.075  0.956  0.821  0.745  0.712  0.511  0.231  0.210  0.278   \n",
      "2  0.074  ...  1.164  0.249  0.225  0.258  0.260  0.334  0.299  0.236  0.241   \n",
      "3  0.109  ...  0.966  0.172  0.192  0.228  0.203  0.211  0.188  0.213  0.157   \n",
      "4  0.118  ...  0.223  0.075  0.230  0.208  0.265  0.377  0.327  0.277  0.288   \n",
      "\n",
      "   hh_47  \n",
      "0  0.250  \n",
      "1  0.159  \n",
      "2  0.237  \n",
      "3  0.202  \n",
      "4  0.256  \n",
      "\n",
      "[5 rows x 50 columns]\n"
     ]
    }
   ],
   "source": [
    "#Printing First 5 Rows\n",
    "print('Checking head:\\n\\n{}'.format(halfhour_df.head()))"
   ]
  },
  {
   "cell_type": "code",
   "execution_count": 19,
   "metadata": {},
   "outputs": [
    {
     "name": "stdout",
     "output_type": "stream",
     "text": [
      "Checking for NANs in daily_df:\n",
      "\n",
      "LCLid       0\n",
      "day         0\n",
      "hh_0        0\n",
      "hh_1        0\n",
      "hh_2        0\n",
      "hh_3        0\n",
      "hh_4        0\n",
      "hh_5        0\n",
      "hh_6        0\n",
      "hh_7        0\n",
      "hh_8        0\n",
      "hh_9        0\n",
      "hh_10       0\n",
      "hh_11       0\n",
      "hh_12       0\n",
      "hh_13       0\n",
      "hh_14       0\n",
      "hh_15       0\n",
      "hh_16       0\n",
      "hh_17       0\n",
      "hh_18       0\n",
      "hh_19       2\n",
      "hh_20       0\n",
      "hh_21       0\n",
      "hh_22       0\n",
      "hh_23       0\n",
      "hh_24       0\n",
      "hh_25      21\n",
      "hh_26       2\n",
      "hh_27       0\n",
      "hh_28       0\n",
      "hh_29       0\n",
      "hh_30    5460\n",
      "hh_31       0\n",
      "hh_32       0\n",
      "hh_33       0\n",
      "hh_34       0\n",
      "hh_35       0\n",
      "hh_36       1\n",
      "hh_37       0\n",
      "hh_38       0\n",
      "hh_39       0\n",
      "hh_40       0\n",
      "hh_41       0\n",
      "hh_42       0\n",
      "hh_43       0\n",
      "hh_44       0\n",
      "hh_45       0\n",
      "hh_46       0\n",
      "hh_47       0\n",
      "dtype: int64\n"
     ]
    }
   ],
   "source": [
    "#Checking for missing values\n",
    "print('Checking for NANs in daily_df:\\n\\n{}'.format(halfhour_df.isnull().sum()))"
   ]
  },
  {
   "cell_type": "code",
   "execution_count": 20,
   "metadata": {},
   "outputs": [
    {
     "name": "stdout",
     "output_type": "stream",
     "text": [
      "Checking statistical data:\n",
      "\n",
      "               hh_0          hh_1          hh_2          hh_3          hh_4  \\\n",
      "count  3.469352e+06  3.469352e+06  3.469352e+06  3.469352e+06  3.469352e+06   \n",
      "mean   1.793072e-01  1.692932e-01  1.519922e-01  1.380636e-01  1.279240e-01   \n",
      "std    3.088122e-01  3.291034e-01  2.980318e-01  2.655244e-01  2.373366e-01   \n",
      "min    0.000000e+00  0.000000e+00  0.000000e+00  0.000000e+00  0.000000e+00   \n",
      "25%    5.200000e-02  4.800000e-02  4.600000e-02  4.400000e-02  4.200000e-02   \n",
      "50%    9.800000e-02  8.800000e-02  8.100000e-02  7.700000e-02  7.400000e-02   \n",
      "75%    1.910000e-01  1.680000e-01  1.500000e-01  1.380000e-01  1.300000e-01   \n",
      "max    7.272000e+00  8.717000e+00  8.025000e+00  8.750000e+00  8.414000e+00   \n",
      "\n",
      "               hh_5          hh_6          hh_7          hh_8          hh_9  \\\n",
      "count  3.469352e+06  3.469352e+06  3.469352e+06  3.469352e+06  3.469352e+06   \n",
      "mean   1.216967e-01  1.170615e-01  1.142551e-01  1.132509e-01  1.157545e-01   \n",
      "std    2.196538e-01  2.076232e-01  1.968073e-01  1.902580e-01  1.920647e-01   \n",
      "min    0.000000e+00  0.000000e+00  0.000000e+00  0.000000e+00  0.000000e+00   \n",
      "25%    4.200000e-02  4.100000e-02  4.100000e-02  4.000000e-02  4.100000e-02   \n",
      "50%    7.200000e-02  7.100000e-02  7.000000e-02  7.000000e-02  7.100000e-02   \n",
      "75%    1.250000e-01  1.220000e-01  1.200000e-01  1.190000e-01  1.220000e-01   \n",
      "max    8.591000e+00  7.357000e+00  7.676000e+00  7.581000e+00  7.568000e+00   \n",
      "\n",
      "       ...         hh_38         hh_39         hh_40         hh_41  \\\n",
      "count  ...  3.469352e+06  3.469352e+06  3.469352e+06  3.469352e+06   \n",
      "mean   ...  3.210049e-01  3.208214e-01  3.157999e-01  3.099201e-01   \n",
      "std    ...  3.681264e-01  3.630246e-01  3.521579e-01  3.423600e-01   \n",
      "min    ...  0.000000e+00  0.000000e+00  0.000000e+00  0.000000e+00   \n",
      "25%    ...  1.010000e-01  1.050000e-01  1.080000e-01  1.090000e-01   \n",
      "50%    ...  2.010000e-01  2.050000e-01  2.070000e-01  2.070000e-01   \n",
      "75%    ...  3.900000e-01  3.890000e-01  3.820000e-01  3.750000e-01   \n",
      "max    ...  8.833000e+00  9.141000e+00  8.998000e+00  9.189000e+00   \n",
      "\n",
      "              hh_42         hh_43         hh_44         hh_45         hh_46  \\\n",
      "count  3.469352e+06  3.469352e+06  3.469352e+06  3.469352e+06  3.469352e+06   \n",
      "mean   3.000736e-01  2.876654e-01  2.663366e-01  2.422332e-01  2.144095e-01   \n",
      "std    3.301152e-01  3.189805e-01  3.027963e-01  2.849761e-01  2.649418e-01   \n",
      "min    0.000000e+00  0.000000e+00  0.000000e+00  0.000000e+00  0.000000e+00   \n",
      "25%    1.080000e-01  1.030000e-01  9.200000e-02  7.900000e-02  6.700000e-02   \n",
      "50%    2.030000e-01  1.950000e-01  1.780000e-01  1.580000e-01  1.340000e-01   \n",
      "75%    3.630000e-01  3.490000e-01  3.230000e-01  2.940000e-01  2.580000e-01   \n",
      "max    8.539000e+00  9.257000e+00  7.819000e+00  8.051000e+00  7.769000e+00   \n",
      "\n",
      "              hh_47  \n",
      "count  3.469352e+06  \n",
      "mean   1.872155e-01  \n",
      "std    2.419260e-01  \n",
      "min    0.000000e+00  \n",
      "25%    5.800000e-02  \n",
      "50%    1.130000e-01  \n",
      "75%    2.210000e-01  \n",
      "max    8.411000e+00  \n",
      "\n",
      "[8 rows x 48 columns]\n"
     ]
    }
   ],
   "source": [
    "#Checking for inconsistencies in data\n",
    "print('Checking statistical data:\\n\\n{}'.format(halfhour_df.describe()))"
   ]
  },
  {
   "cell_type": "code",
   "execution_count": 21,
   "metadata": {},
   "outputs": [
    {
     "name": "stdout",
     "output_type": "stream",
     "text": [
      "Checking data types:\n",
      "\n",
      "LCLid     object\n",
      "day       object\n",
      "hh_0     float64\n",
      "hh_1     float64\n",
      "hh_2     float64\n",
      "hh_3     float64\n",
      "hh_4     float64\n",
      "hh_5     float64\n",
      "hh_6     float64\n",
      "hh_7     float64\n",
      "hh_8     float64\n",
      "hh_9     float64\n",
      "hh_10    float64\n",
      "hh_11    float64\n",
      "hh_12    float64\n",
      "hh_13    float64\n",
      "hh_14    float64\n",
      "hh_15    float64\n",
      "hh_16    float64\n",
      "hh_17    float64\n",
      "hh_18    float64\n",
      "hh_19    float64\n",
      "hh_20    float64\n",
      "hh_21    float64\n",
      "hh_22    float64\n",
      "hh_23    float64\n",
      "hh_24    float64\n",
      "hh_25    float64\n",
      "hh_26    float64\n",
      "hh_27    float64\n",
      "hh_28    float64\n",
      "hh_29    float64\n",
      "hh_30    float64\n",
      "hh_31    float64\n",
      "hh_32    float64\n",
      "hh_33    float64\n",
      "hh_34    float64\n",
      "hh_35    float64\n",
      "hh_36    float64\n",
      "hh_37    float64\n",
      "hh_38    float64\n",
      "hh_39    float64\n",
      "hh_40    float64\n",
      "hh_41    float64\n",
      "hh_42    float64\n",
      "hh_43    float64\n",
      "hh_44    float64\n",
      "hh_45    float64\n",
      "hh_46    float64\n",
      "hh_47    float64\n",
      "dtype: object\n"
     ]
    }
   ],
   "source": [
    "#Checking for data types\n",
    "print('Checking data types:\\n\\n{}'.format(halfhour_df.dtypes))"
   ]
  },
  {
   "cell_type": "markdown",
   "metadata": {},
   "source": [
    "***"
   ]
  },
  {
   "cell_type": "markdown",
   "metadata": {},
   "source": [
    "Columns 'hh_19', 'hh_25', 'hh_26', 'hh_30', and 'hh_36' contained missing values. Considering that the column with the most missing values had only 5,460 NaNs out of 3,469,352 values, we decided to use a median imputer to replace all NaNs. "
   ]
  },
  {
   "cell_type": "code",
   "execution_count": 22,
   "metadata": {},
   "outputs": [],
   "source": [
    "# Using SimpleImputer to replace NaNs \n",
    "imp_median = SimpleImputer(missing_values=np.nan, strategy='median')\n",
    "halfhour_df['hh_19'] = imp_median.fit_transform(halfhour_df[['hh_19']])\n",
    "halfhour_df['hh_25'] = imp_median.fit_transform(halfhour_df[['hh_25']])\n",
    "halfhour_df['hh_26'] = imp_median.fit_transform(halfhour_df[['hh_26']])\n",
    "halfhour_df['hh_30'] = imp_median.fit_transform(halfhour_df[['hh_30']])\n",
    "halfhour_df['hh_36'] = imp_median.fit_transform(halfhour_df[['hh_36']])"
   ]
  },
  {
   "cell_type": "markdown",
   "metadata": {},
   "source": [
    "The 'day' column should be in datetime64 datatype."
   ]
  },
  {
   "cell_type": "code",
   "execution_count": 23,
   "metadata": {},
   "outputs": [],
   "source": [
    "#Changing datatype of 'day' column\n",
    "halfhour_df['day'] = pd.to_datetime(halfhour_df['day'])"
   ]
  },
  {
   "cell_type": "markdown",
   "metadata": {},
   "source": [
    "***"
   ]
  },
  {
   "cell_type": "markdown",
   "metadata": {},
   "source": [
    "- <u>Feature Engineering</u>:"
   ]
  },
  {
   "cell_type": "markdown",
   "metadata": {},
   "source": [
    "Plotting hh averages throughout the day to find patterns"
   ]
  },
  {
   "cell_type": "code",
   "execution_count": 24,
   "metadata": {},
   "outputs": [
    {
     "data": {
      "image/png": "[encoded data removed]",
      "text/plain": [
       "<Figure size 648x432 with 1 Axes>"
      ]
     },
     "metadata": {
      "needs_background": "light"
     },
     "output_type": "display_data"
    }
   ],
   "source": [
    "# Compute daily hh averages\n",
    "hh_mean = [mean for mean in halfhour_df.drop(['LCLid', 'day'], axis = 1).mean()] \n",
    "\n",
    "# Create list with times\n",
    "time = [str(i*dt.timedelta(minutes=30)) for i in range(24*60//30)]\n",
    "\n",
    "# Plot means vs times\n",
    "plt.figure(figsize=(9, 6))\n",
    "\n",
    "plt.plot(time, hh_mean)\n",
    "plt.grid()\n",
    "plt.title('Daily Average per Half Hour', fontweight=\"bold\")\n",
    "plt.xlabel('Time of Day', fontweight=\"bold\")\n",
    "plt.xticks(np.arange(0, 50 ,2), rotation = 90, fontsize = 8)\n",
    "plt.ylabel('Half Hour Means', fontweight=\"bold\")\n",
    "plt.yticks(np.arange(0.1, 0.35, 0.05))\n",
    "\n",
    "xcoords = ['4:00:00', '8:30:00', '14:30:00', '19:30:00']\n",
    "for xc in xcoords:\n",
    "    plt.axvline(x=xc, color = 'r', linestyle = '--')\n",
    "    \n",
    "plt.show()"
   ]
  },
  {
   "cell_type": "markdown",
   "metadata": {},
   "source": [
    "<div class=\"alert alert-block alert-info\">\n",
    "    We identified four patterns in the half hour average per day graph: <b>1) </b> from <b>4:00:00 to 8:30:00</b> there appears to be an ascending trend, <b>2) </b> from <b>8:30:00 to 14:30:00</b> the average stabilizes, <b>3) </b> from <b>14:30:00 to 19:30:00</b> the ascending trend resumes, and <b>4) </b> from <b>19:30:00 to 4:00:00</b> the trend shifts to a downward trend. \n",
    "</div>"
   ]
  },
  {
   "cell_type": "markdown",
   "metadata": {},
   "source": [
    "***"
   ]
  },
  {
   "cell_type": "markdown",
   "metadata": {},
   "source": [
    "After identifying these patterns, we decided to group halfhours group half hours by time of day, namely 'Dawn', 'Morning-Afternoon', 'Evening', and 'Night'."
   ]
  },
  {
   "cell_type": "code",
   "execution_count": 25,
   "metadata": {},
   "outputs": [],
   "source": [
    "# Renaming columns of halfhour_df from 'hh_' format to '00:00:00' format. \n",
    "columns = ['LCLid', 'day']\n",
    "for hh in time:\n",
    "    columns.append(hh)\n",
    "halfhour_df.columns = columns"
   ]
  },
  {
   "cell_type": "code",
   "execution_count": 26,
   "metadata": {},
   "outputs": [],
   "source": [
    "# Group half hours into 'Dawn', 'Morning-Afternoon', 'Evening', and 'Night' groups and compute average of group\n",
    "halfhour_df['Avg.Dawn'] = halfhour_df.iloc[:, 11:20].mean(axis=1)\n",
    "halfhour_df['Avg.Morning_Afternoon'] = halfhour_df.iloc[:, 20:32].mean(axis=1)\n",
    "halfhour_df['Avg.Evening'] = halfhour_df.iloc[:, 32:42].mean(axis=1)\n",
    "halfhour_df['Avg.Night'] = halfhour_df.loc[:, list(halfhour_df.columns[2:11]) + \n",
    "           list(halfhour_df.columns[42:-1])].mean(axis = 1)\n",
    "\n",
    "#Update data frame with created columns\n",
    "halfhour_df = halfhour_df[['LCLid', 'day', 'Avg.Dawn', 'Avg.Morning_Afternoon', \n",
    "                       'Avg.Evening', 'Avg.Night']]"
   ]
  },
  {
   "cell_type": "markdown",
   "metadata": {},
   "source": [
    " "
   ]
  },
  {
   "cell_type": "markdown",
   "metadata": {},
   "source": [
    "We created a binary column 'holiday' to identify days as holidays in the dataset. "
   ]
  },
  {
   "cell_type": "code",
   "execution_count": 27,
   "metadata": {},
   "outputs": [],
   "source": [
    "#Create holiday column (binary) in halfhour_df\n",
    "halfhour_df['holiday'] = [1 if date in list(holiday_df['Bank holidays']) else 0 for date in halfhour_df['day']]"
   ]
  },
  {
   "cell_type": "markdown",
   "metadata": {},
   "source": [
    " "
   ]
  },
  {
   "cell_type": "markdown",
   "metadata": {},
   "source": [
    "We decided to merge halfhour_df and infohouse_df to include acorn information. "
   ]
  },
  {
   "cell_type": "code",
   "execution_count": 28,
   "metadata": {},
   "outputs": [],
   "source": [
    "#Merge halfhour_df and infohouse_df\n",
    "halfhour_df = halfhour_df.merge(infohouse_df, on=('LCLid'))"
   ]
  },
  {
   "cell_type": "code",
   "execution_count": 29,
   "metadata": {},
   "outputs": [],
   "source": [
    "#Replace Acorn- with most frequent\n",
    "halfhour_df['Acorn'].value_counts() #Identified Acorn-E as most frequent\n",
    "halfhour_df['Acorn'] = halfhour_df['Acorn'].replace('ACORN-', 'ACORN-E')"
   ]
  },
  {
   "cell_type": "code",
   "execution_count": 30,
   "metadata": {},
   "outputs": [
    {
     "data": {
      "text/html": [
       "<div>\n",
       "<style scoped>\n",
       "    .dataframe tbody tr th:only-of-type {\n",
       "        vertical-align: middle;\n",
       "    }\n",
       "\n",
       "    .dataframe tbody tr th {\n",
       "        vertical-align: top;\n",
       "    }\n",
       "\n",
       "    .dataframe thead th {\n",
       "        text-align: right;\n",
       "    }\n",
       "</style>\n",
       "<table border=\"1\" class=\"dataframe\">\n",
       "  <thead>\n",
       "    <tr style=\"text-align: right;\">\n",
       "      <th></th>\n",
       "      <th>LCLid</th>\n",
       "      <th>day</th>\n",
       "      <th>Avg.Dawn</th>\n",
       "      <th>Avg.Morning_Afternoon</th>\n",
       "      <th>Avg.Evening</th>\n",
       "      <th>Avg.Night</th>\n",
       "      <th>holiday</th>\n",
       "      <th>stdorToU</th>\n",
       "      <th>Acorn</th>\n",
       "      <th>Acorn_grouped</th>\n",
       "    </tr>\n",
       "  </thead>\n",
       "  <tbody>\n",
       "    <tr>\n",
       "      <th>0</th>\n",
       "      <td>MAC000002</td>\n",
       "      <td>2012-10-13</td>\n",
       "      <td>0.133556</td>\n",
       "      <td>0.266667</td>\n",
       "      <td>0.2927</td>\n",
       "      <td>0.218854</td>\n",
       "      <td>0</td>\n",
       "      <td>Std</td>\n",
       "      <td>ACORN-A</td>\n",
       "      <td>Affluent</td>\n",
       "    </tr>\n",
       "    <tr>\n",
       "      <th>1</th>\n",
       "      <td>MAC000002</td>\n",
       "      <td>2012-10-14</td>\n",
       "      <td>0.100556</td>\n",
       "      <td>0.243500</td>\n",
       "      <td>0.4453</td>\n",
       "      <td>0.278266</td>\n",
       "      <td>0</td>\n",
       "      <td>Std</td>\n",
       "      <td>ACORN-A</td>\n",
       "      <td>Affluent</td>\n",
       "    </tr>\n",
       "    <tr>\n",
       "      <th>2</th>\n",
       "      <td>MAC000002</td>\n",
       "      <td>2012-10-15</td>\n",
       "      <td>0.213111</td>\n",
       "      <td>0.149417</td>\n",
       "      <td>0.3413</td>\n",
       "      <td>0.183975</td>\n",
       "      <td>0</td>\n",
       "      <td>Std</td>\n",
       "      <td>ACORN-A</td>\n",
       "      <td>Affluent</td>\n",
       "    </tr>\n",
       "    <tr>\n",
       "      <th>3</th>\n",
       "      <td>MAC000002</td>\n",
       "      <td>2012-10-16</td>\n",
       "      <td>0.103667</td>\n",
       "      <td>0.253750</td>\n",
       "      <td>0.2913</td>\n",
       "      <td>0.170285</td>\n",
       "      <td>0</td>\n",
       "      <td>Std</td>\n",
       "      <td>ACORN-A</td>\n",
       "      <td>Affluent</td>\n",
       "    </tr>\n",
       "    <tr>\n",
       "      <th>4</th>\n",
       "      <td>MAC000002</td>\n",
       "      <td>2012-10-17</td>\n",
       "      <td>0.106111</td>\n",
       "      <td>0.401917</td>\n",
       "      <td>0.1687</td>\n",
       "      <td>0.206738</td>\n",
       "      <td>0</td>\n",
       "      <td>Std</td>\n",
       "      <td>ACORN-A</td>\n",
       "      <td>Affluent</td>\n",
       "    </tr>\n",
       "  </tbody>\n",
       "</table>\n",
       "</div>"
      ],
      "text/plain": [
       "       LCLid        day  Avg.Dawn  Avg.Morning_Afternoon  Avg.Evening  \\\n",
       "0  MAC000002 2012-10-13  0.133556               0.266667       0.2927   \n",
       "1  MAC000002 2012-10-14  0.100556               0.243500       0.4453   \n",
       "2  MAC000002 2012-10-15  0.213111               0.149417       0.3413   \n",
       "3  MAC000002 2012-10-16  0.103667               0.253750       0.2913   \n",
       "4  MAC000002 2012-10-17  0.106111               0.401917       0.1687   \n",
       "\n",
       "   Avg.Night  holiday stdorToU    Acorn Acorn_grouped  \n",
       "0   0.218854        0      Std  ACORN-A      Affluent  \n",
       "1   0.278266        0      Std  ACORN-A      Affluent  \n",
       "2   0.183975        0      Std  ACORN-A      Affluent  \n",
       "3   0.170285        0      Std  ACORN-A      Affluent  \n",
       "4   0.206738        0      Std  ACORN-A      Affluent  "
      ]
     },
     "execution_count": 30,
     "metadata": {},
     "output_type": "execute_result"
    }
   ],
   "source": [
    "#Verifying changes\n",
    "halfhour_df.head()"
   ]
  },
  {
   "cell_type": "markdown",
   "metadata": {},
   "source": [
    " "
   ]
  },
  {
   "cell_type": "markdown",
   "metadata": {},
   "source": [
    "We decided to merge halfhour_df with daily_df to include 'energy_sum' of each LCLid into halfhour_df. "
   ]
  },
  {
   "cell_type": "code",
   "execution_count": 31,
   "metadata": {},
   "outputs": [],
   "source": [
    "#Merge halfhour_df and daily_df\n",
    "halfhour_df = halfhour_df.merge(daily_df, on=(['LCLid', 'day']))"
   ]
  },
  {
   "cell_type": "markdown",
   "metadata": {},
   "source": [
    "***"
   ]
  },
  {
   "cell_type": "markdown",
   "metadata": {},
   "source": [
    "### weather_df"
   ]
  },
  {
   "cell_type": "markdown",
   "metadata": {},
   "source": [
    "- <u>Data Cleaning</u>:"
   ]
  },
  {
   "cell_type": "code",
   "execution_count": 32,
   "metadata": {},
   "outputs": [
    {
     "name": "stdout",
     "output_type": "stream",
     "text": [
      "Checking head:\n",
      "\n",
      "   temperatureMax   temperatureMaxTime  windBearing                 icon  \\\n",
      "0           11.96  2011-11-11 23:00:00          123                  fog   \n",
      "1            8.59  2011-12-11 14:00:00          198    partly-cloudy-day   \n",
      "2           10.33  2011-12-27 02:00:00          225    partly-cloudy-day   \n",
      "3            8.07  2011-12-02 23:00:00          232                 wind   \n",
      "4            8.22  2011-12-24 23:00:00          252  partly-cloudy-night   \n",
      "\n",
      "   dewPoint   temperatureMinTime  cloudCover  windSpeed  pressure  \\\n",
      "0      9.40  2011-11-11 07:00:00        0.79       3.88   1016.08   \n",
      "1      4.49  2011-12-11 01:00:00        0.56       3.94   1007.71   \n",
      "2      5.47  2011-12-27 23:00:00        0.85       3.54   1032.76   \n",
      "3      3.69  2011-12-02 07:00:00        0.32       3.00   1012.12   \n",
      "4      2.79  2011-12-24 07:00:00        0.37       4.46   1028.17   \n",
      "\n",
      "  apparentTemperatureMinTime  ...  temperatureHigh          sunriseTime  \\\n",
      "0        2011-11-11 07:00:00  ...            10.87  2011-11-11 07:12:14   \n",
      "1        2011-12-11 02:00:00  ...             8.59  2011-12-11 07:57:02   \n",
      "2        2011-12-27 22:00:00  ...            10.33  2011-12-27 08:07:06   \n",
      "3        2011-12-02 07:00:00  ...             7.36  2011-12-02 07:46:09   \n",
      "4        2011-12-24 07:00:00  ...             7.93  2011-12-24 08:06:15   \n",
      "\n",
      "   temperatureHighTime          uvIndexTime  \\\n",
      "0  2011-11-11 19:00:00  2011-11-11 11:00:00   \n",
      "1  2011-12-11 14:00:00  2011-12-11 12:00:00   \n",
      "2  2011-12-27 14:00:00  2011-12-27 00:00:00   \n",
      "3  2011-12-02 12:00:00  2011-12-02 10:00:00   \n",
      "4  2011-12-24 15:00:00  2011-12-24 13:00:00   \n",
      "\n",
      "                                             summary   temperatureLowTime  \\\n",
      "0                             Foggy until afternoon.  2011-11-11 19:00:00   \n",
      "1                  Partly cloudy throughout the day.  2011-12-12 07:00:00   \n",
      "2                  Mostly cloudy throughout the day.  2011-12-27 23:00:00   \n",
      "3  Partly cloudy throughout the day and breezy ov...  2011-12-02 19:00:00   \n",
      "4                  Mostly cloudy throughout the day.  2011-12-24 19:00:00   \n",
      "\n",
      "   apparentTemperatureMin  apparentTemperatureMaxTime  \\\n",
      "0                    6.48         2011-11-11 23:00:00   \n",
      "1                    0.11         2011-12-11 20:00:00   \n",
      "2                    5.59         2011-12-27 02:00:00   \n",
      "3                    0.46         2011-12-02 12:00:00   \n",
      "4                   -0.51         2011-12-24 23:00:00   \n",
      "\n",
      "  apparentTemperatureLowTime moonPhase  \n",
      "0        2011-11-11 19:00:00      0.52  \n",
      "1        2011-12-12 08:00:00      0.53  \n",
      "2        2011-12-28 00:00:00      0.10  \n",
      "3        2011-12-02 19:00:00      0.25  \n",
      "4        2011-12-24 20:00:00      0.99  \n",
      "\n",
      "[5 rows x 32 columns]\n"
     ]
    }
   ],
   "source": [
    "#Printing First 5 Rows\n",
    "print('Checking head:\\n\\n{}'.format(weather_df.head()))"
   ]
  },
  {
   "cell_type": "code",
   "execution_count": 33,
   "metadata": {},
   "outputs": [
    {
     "name": "stdout",
     "output_type": "stream",
     "text": [
      "Checking for NANs in weather_df:\n",
      "\n",
      "temperatureMax                 0\n",
      "temperatureMaxTime             0\n",
      "windBearing                    0\n",
      "icon                           0\n",
      "dewPoint                       0\n",
      "temperatureMinTime             0\n",
      "cloudCover                     1\n",
      "windSpeed                      0\n",
      "pressure                       0\n",
      "apparentTemperatureMinTime     0\n",
      "apparentTemperatureHigh        0\n",
      "precipType                     0\n",
      "visibility                     0\n",
      "humidity                       0\n",
      "apparentTemperatureHighTime    0\n",
      "apparentTemperatureLow         0\n",
      "apparentTemperatureMax         0\n",
      "uvIndex                        1\n",
      "time                           0\n",
      "sunsetTime                     0\n",
      "temperatureLow                 0\n",
      "temperatureMin                 0\n",
      "temperatureHigh                0\n",
      "sunriseTime                    0\n",
      "temperatureHighTime            0\n",
      "uvIndexTime                    1\n",
      "summary                        0\n",
      "temperatureLowTime             0\n",
      "apparentTemperatureMin         0\n",
      "apparentTemperatureMaxTime     0\n",
      "apparentTemperatureLowTime     0\n",
      "moonPhase                      0\n",
      "dtype: int64\n"
     ]
    }
   ],
   "source": [
    "# Checking for missing values\n",
    "print('Checking for NANs in weather_df:\\n\\n{}'.format(weather_df.isnull().sum()))"
   ]
  },
  {
   "cell_type": "code",
   "execution_count": 34,
   "metadata": {},
   "outputs": [
    {
     "name": "stdout",
     "output_type": "stream",
     "text": [
      "Checking statistical data:\n",
      "\n",
      "       temperatureMax  windBearing    dewPoint  cloudCover   windSpeed  \\\n",
      "count      882.000000   882.000000  882.000000  881.000000  882.000000   \n",
      "mean        13.660113   195.702948    6.530034    0.477605    3.581803   \n",
      "std          6.182744    89.340783    4.830875    0.193514    1.694007   \n",
      "min         -0.060000     0.000000   -7.840000    0.000000    0.200000   \n",
      "25%          9.502500   120.500000    3.180000    0.350000    2.370000   \n",
      "50%         12.625000   219.000000    6.380000    0.470000    3.440000   \n",
      "75%         17.920000   255.000000   10.057500    0.600000    4.577500   \n",
      "max         32.400000   359.000000   17.770000    1.000000    9.960000   \n",
      "\n",
      "          pressure  apparentTemperatureHigh  visibility    humidity  \\\n",
      "count   882.000000               882.000000  882.000000  882.000000   \n",
      "mean   1014.127540                12.723866   11.167143    0.781871   \n",
      "std      11.073038                 7.279168    2.466109    0.095348   \n",
      "min     979.250000                -6.460000    1.480000    0.430000   \n",
      "25%    1007.435000                 7.032500   10.327500    0.720000   \n",
      "50%    1014.615000                12.470000   11.970000    0.790000   \n",
      "75%    1021.755000                17.910000   12.830000    0.860000   \n",
      "max    1040.920000                32.420000   15.340000    0.980000   \n",
      "\n",
      "       apparentTemperatureLow  apparentTemperatureMax     uvIndex  \\\n",
      "count              882.000000              882.000000  881.000000   \n",
      "mean                 6.085045               12.929467    2.542565   \n",
      "std                  6.031967                7.105426    1.832985   \n",
      "min                 -8.880000               -4.110000    0.000000   \n",
      "25%                  1.522500                7.332500    1.000000   \n",
      "50%                  5.315000               12.625000    2.000000   \n",
      "75%                 11.467500               17.920000    4.000000   \n",
      "max                 20.540000               32.420000    7.000000   \n",
      "\n",
      "       temperatureLow  temperatureMin  temperatureHigh  \\\n",
      "count      882.000000      882.000000       882.000000   \n",
      "mean         7.709841        7.414161        13.542392   \n",
      "std          4.871004        4.888852         6.260196   \n",
      "min         -5.640000       -5.640000        -0.810000   \n",
      "25%          3.990000        3.705000         9.212500   \n",
      "50%          7.540000        7.100000        12.470000   \n",
      "75%         11.467500       11.277500        17.910000   \n",
      "max         20.540000       20.540000        32.400000   \n",
      "\n",
      "       apparentTemperatureMin   moonPhase  \n",
      "count              882.000000  882.000000  \n",
      "mean                 5.738039    0.500930  \n",
      "std                  6.048746    0.287022  \n",
      "min                 -8.880000    0.000000  \n",
      "25%                  1.105000    0.260000  \n",
      "50%                  4.885000    0.500000  \n",
      "75%                 11.277500    0.750000  \n",
      "max                 20.540000    0.990000  \n"
     ]
    }
   ],
   "source": [
    "# Checking for inconsistencies in data\n",
    "print('Checking statistical data:\\n\\n{}'.format(weather_df.describe()))"
   ]
  },
  {
   "cell_type": "code",
   "execution_count": 35,
   "metadata": {},
   "outputs": [
    {
     "name": "stdout",
     "output_type": "stream",
     "text": [
      "Checking data types:\n",
      "\n",
      "temperatureMax                 float64\n",
      "temperatureMaxTime              object\n",
      "windBearing                      int64\n",
      "icon                            object\n",
      "dewPoint                       float64\n",
      "temperatureMinTime              object\n",
      "cloudCover                     float64\n",
      "windSpeed                      float64\n",
      "pressure                       float64\n",
      "apparentTemperatureMinTime      object\n",
      "apparentTemperatureHigh        float64\n",
      "precipType                      object\n",
      "visibility                     float64\n",
      "humidity                       float64\n",
      "apparentTemperatureHighTime     object\n",
      "apparentTemperatureLow         float64\n",
      "apparentTemperatureMax         float64\n",
      "uvIndex                        float64\n",
      "time                            object\n",
      "sunsetTime                      object\n",
      "temperatureLow                 float64\n",
      "temperatureMin                 float64\n",
      "temperatureHigh                float64\n",
      "sunriseTime                     object\n",
      "temperatureHighTime             object\n",
      "uvIndexTime                     object\n",
      "summary                         object\n",
      "temperatureLowTime              object\n",
      "apparentTemperatureMin         float64\n",
      "apparentTemperatureMaxTime      object\n",
      "apparentTemperatureLowTime      object\n",
      "moonPhase                      float64\n",
      "dtype: object\n"
     ]
    }
   ],
   "source": [
    "# Checking for data types\n",
    "print('Checking data types:\\n\\n{}'.format(weather_df.dtypes))"
   ]
  },
  {
   "cell_type": "markdown",
   "metadata": {},
   "source": [
    "***"
   ]
  },
  {
   "cell_type": "markdown",
   "metadata": {},
   "source": [
    "Columns 'uvIndex', 'cloudCover' and 'uvIndexTime' contained missing values. Since 'uvIndexTime' was a categorical features, we used a most frequent imputer to replace NaN values. For 'uvIndex' and 'cloudCover', we used the median imputer.  "
   ]
  },
  {
   "cell_type": "code",
   "execution_count": 36,
   "metadata": {},
   "outputs": [],
   "source": [
    "# Using SimpleImputer to replace Nans\n",
    "imp_median = SimpleImputer(missing_values=np.nan, strategy='median')\n",
    "imp_freq = SimpleImputer(missing_values=np.nan, strategy='most_frequent')\n",
    "weather_df['uvIndex'] = imp_median.fit_transform(weather_df[['uvIndex']])\n",
    "weather_df['cloudCover'] = imp_median.fit_transform(weather_df[['cloudCover']])\n",
    "weather_df['uvIndexTime'] = imp_freq.fit_transform(weather_df[['uvIndexTime']])"
   ]
  },
  {
   "cell_type": "markdown",
   "metadata": {},
   "source": [
    "***"
   ]
  },
  {
   "cell_type": "markdown",
   "metadata": {},
   "source": [
    "- <u>Feature Engineering</u>:"
   ]
  },
  {
   "cell_type": "markdown",
   "metadata": {},
   "source": [
    "We created a 'day' column out of the information from 'time' to maintain day formatting between datasets."
   ]
  },
  {
   "cell_type": "code",
   "execution_count": 37,
   "metadata": {},
   "outputs": [],
   "source": [
    "#Creating day column and sorting by day\n",
    "weather_df.insert(0, 'day', pd.to_datetime(weather_df['time']).dt.date)\n",
    "weather_df['day'] = pd.to_datetime(weather_df['day'])\n",
    "weather_df.sort_values(by='day', inplace = True)"
   ]
  },
  {
   "cell_type": "markdown",
   "metadata": {},
   "source": [
    " "
   ]
  },
  {
   "cell_type": "markdown",
   "metadata": {},
   "source": [
    "We dropped columns that contained the words 'apparent', 'time'/'Time' after deciding these did not contain useful information for our analysis. Moreover, we dropped the 'Summary' column for the same reason."
   ]
  },
  {
   "cell_type": "code",
   "execution_count": 39,
   "metadata": {},
   "outputs": [],
   "source": [
    "#Drop 'apparent' and 'time' columns\n",
    "weather_df.drop(weather_df.loc[:,weather_df.columns.str.contains(\"apparent\")], axis=1, inplace = True)\n",
    "weather_df.drop(weather_df.loc[:,weather_df.columns.str.contains(\"time\")], axis=1, inplace = True)"
   ]
  },
  {
   "cell_type": "code",
   "execution_count": 40,
   "metadata": {},
   "outputs": [],
   "source": [
    "# Drop irrelevant time columns and keeping sunset and sunrise times\n",
    "weather_df['sunset'] = pd.to_datetime(weather_df['sunsetTime']).dt.round('H').dt.time\n",
    "weather_df['sunrise'] = pd.to_datetime(weather_df['sunriseTime']).dt.round('H').dt.time\n",
    "weather_df.drop(weather_df.loc[:,weather_df.columns.str.contains(\"Time\")], axis=1, inplace = True)"
   ]
  },
  {
   "cell_type": "code",
   "execution_count": 41,
   "metadata": {},
   "outputs": [],
   "source": [
    "# Drop 'summary' columns\n",
    "weather_df.drop('summary', axis = 1, inplace = True)"
   ]
  },
  {
   "cell_type": "markdown",
   "metadata": {},
   "source": [
    "***"
   ]
  },
  {
   "cell_type": "markdown",
   "metadata": {},
   "source": [
    "     Clustering for Feature Engineering"
   ]
  },
  {
   "cell_type": "markdown",
   "metadata": {},
   "source": [
    "We decided to cluster data using a FAMD analysis to find interesting trends within the data."
   ]
  },
  {
   "cell_type": "code",
   "execution_count": 42,
   "metadata": {},
   "outputs": [],
   "source": [
    "#Creating data set exclusively for clustering\n",
    "weatherclust_df = weather_df.copy()"
   ]
  },
  {
   "cell_type": "markdown",
   "metadata": {},
   "source": [
    " "
   ]
  },
  {
   "cell_type": "markdown",
   "metadata": {},
   "source": [
    "Standarization"
   ]
  },
  {
   "cell_type": "code",
   "execution_count": 43,
   "metadata": {},
   "outputs": [],
   "source": [
    "#Initializing Scaler\n",
    "scaler = StandardScaler()"
   ]
  },
  {
   "cell_type": "code",
   "execution_count": 44,
   "metadata": {},
   "outputs": [],
   "source": [
    "#Scale non-binary features\n",
    "numerical_features = ['temperatureMax', 'windBearing', 'dewPoint',\n",
    "       'cloudCover', 'windSpeed', 'pressure', 'visibility',\n",
    "       'humidity', 'uvIndex', 'temperatureLow', 'temperatureMin',\n",
    "       'temperatureHigh', 'moonPhase']\n",
    "weatherclust_df[numerical_features] = scaler.fit_transform(weatherclust_df[numerical_features])"
   ]
  },
  {
   "cell_type": "code",
   "execution_count": 45,
   "metadata": {},
   "outputs": [
    {
     "data": {
      "text/html": [
       "<div>\n",
       "<style scoped>\n",
       "    .dataframe tbody tr th:only-of-type {\n",
       "        vertical-align: middle;\n",
       "    }\n",
       "\n",
       "    .dataframe tbody tr th {\n",
       "        vertical-align: top;\n",
       "    }\n",
       "\n",
       "    .dataframe thead th {\n",
       "        text-align: right;\n",
       "    }\n",
       "</style>\n",
       "<table border=\"1\" class=\"dataframe\">\n",
       "  <thead>\n",
       "    <tr style=\"text-align: right;\">\n",
       "      <th></th>\n",
       "      <th>day</th>\n",
       "      <th>temperatureMax</th>\n",
       "      <th>windBearing</th>\n",
       "      <th>icon</th>\n",
       "      <th>dewPoint</th>\n",
       "      <th>cloudCover</th>\n",
       "      <th>windSpeed</th>\n",
       "      <th>pressure</th>\n",
       "      <th>precipType</th>\n",
       "      <th>visibility</th>\n",
       "      <th>humidity</th>\n",
       "      <th>uvIndex</th>\n",
       "      <th>temperatureLow</th>\n",
       "      <th>temperatureMin</th>\n",
       "      <th>temperatureHigh</th>\n",
       "      <th>moonPhase</th>\n",
       "      <th>sunset</th>\n",
       "      <th>sunrise</th>\n",
       "    </tr>\n",
       "  </thead>\n",
       "  <tbody>\n",
       "    <tr>\n",
       "      <th>13</th>\n",
       "      <td>2011-11-01</td>\n",
       "      <td>0.309081</td>\n",
       "      <td>0.137720</td>\n",
       "      <td>partly-cloudy-day</td>\n",
       "      <td>0.745622</td>\n",
       "      <td>-0.608380</td>\n",
       "      <td>-0.668501</td>\n",
       "      <td>-0.421762</td>\n",
       "      <td>rain</td>\n",
       "      <td>0.613807</td>\n",
       "      <td>0.609998</td>\n",
       "      <td>-0.842137</td>\n",
       "      <td>0.240366</td>\n",
       "      <td>0.463734</td>\n",
       "      <td>0.324073</td>\n",
       "      <td>-1.014191</td>\n",
       "      <td>17:00:00</td>\n",
       "      <td>07:00:00</td>\n",
       "    </tr>\n",
       "    <tr>\n",
       "      <th>60</th>\n",
       "      <td>2011-11-02</td>\n",
       "      <td>0.247585</td>\n",
       "      <td>-0.691039</td>\n",
       "      <td>partly-cloudy-night</td>\n",
       "      <td>0.766334</td>\n",
       "      <td>-0.453176</td>\n",
       "      <td>0.477363</td>\n",
       "      <td>-0.843747</td>\n",
       "      <td>rain</td>\n",
       "      <td>0.268939</td>\n",
       "      <td>0.924813</td>\n",
       "      <td>-0.842137</td>\n",
       "      <td>1.290026</td>\n",
       "      <td>0.300003</td>\n",
       "      <td>0.242559</td>\n",
       "      <td>-0.909610</td>\n",
       "      <td>17:00:00</td>\n",
       "      <td>07:00:00</td>\n",
       "    </tr>\n",
       "    <tr>\n",
       "      <th>34</th>\n",
       "      <td>2011-11-03</td>\n",
       "      <td>0.606853</td>\n",
       "      <td>-0.467050</td>\n",
       "      <td>partly-cloudy-day</td>\n",
       "      <td>1.420831</td>\n",
       "      <td>0.219373</td>\n",
       "      <td>0.241102</td>\n",
       "      <td>-1.872955</td>\n",
       "      <td>rain</td>\n",
       "      <td>0.398772</td>\n",
       "      <td>1.134690</td>\n",
       "      <td>-0.842137</td>\n",
       "      <td>0.988069</td>\n",
       "      <td>1.100236</td>\n",
       "      <td>0.618160</td>\n",
       "      <td>-0.805029</td>\n",
       "      <td>17:00:00</td>\n",
       "      <td>07:00:00</td>\n",
       "    </tr>\n",
       "    <tr>\n",
       "      <th>31</th>\n",
       "      <td>2011-11-04</td>\n",
       "      <td>0.304226</td>\n",
       "      <td>-0.187064</td>\n",
       "      <td>fog</td>\n",
       "      <td>1.139149</td>\n",
       "      <td>0.115904</td>\n",
       "      <td>-0.568090</td>\n",
       "      <td>-1.679583</td>\n",
       "      <td>rain</td>\n",
       "      <td>-0.193590</td>\n",
       "      <td>1.344566</td>\n",
       "      <td>-0.842137</td>\n",
       "      <td>0.505349</td>\n",
       "      <td>0.842360</td>\n",
       "      <td>0.319278</td>\n",
       "      <td>-0.665588</td>\n",
       "      <td>17:00:00</td>\n",
       "      <td>07:00:00</td>\n",
       "    </tr>\n",
       "    <tr>\n",
       "      <th>46</th>\n",
       "      <td>2011-11-05</td>\n",
       "      <td>0.045295</td>\n",
       "      <td>1.683244</td>\n",
       "      <td>fog</td>\n",
       "      <td>0.917531</td>\n",
       "      <td>0.891923</td>\n",
       "      <td>-0.520838</td>\n",
       "      <td>-0.608809</td>\n",
       "      <td>rain</td>\n",
       "      <td>-2.664468</td>\n",
       "      <td>1.449505</td>\n",
       "      <td>-0.842137</td>\n",
       "      <td>0.359505</td>\n",
       "      <td>0.564018</td>\n",
       "      <td>0.063550</td>\n",
       "      <td>-0.561007</td>\n",
       "      <td>16:00:00</td>\n",
       "      <td>07:00:00</td>\n",
       "    </tr>\n",
       "  </tbody>\n",
       "</table>\n",
       "</div>"
      ],
      "text/plain": [
       "          day  temperatureMax  windBearing                 icon  dewPoint  \\\n",
       "13 2011-11-01        0.309081     0.137720    partly-cloudy-day  0.745622   \n",
       "60 2011-11-02        0.247585    -0.691039  partly-cloudy-night  0.766334   \n",
       "34 2011-11-03        0.606853    -0.467050    partly-cloudy-day  1.420831   \n",
       "31 2011-11-04        0.304226    -0.187064                  fog  1.139149   \n",
       "46 2011-11-05        0.045295     1.683244                  fog  0.917531   \n",
       "\n",
       "    cloudCover  windSpeed  pressure precipType  visibility  humidity  \\\n",
       "13   -0.608380  -0.668501 -0.421762       rain    0.613807  0.609998   \n",
       "60   -0.453176   0.477363 -0.843747       rain    0.268939  0.924813   \n",
       "34    0.219373   0.241102 -1.872955       rain    0.398772  1.134690   \n",
       "31    0.115904  -0.568090 -1.679583       rain   -0.193590  1.344566   \n",
       "46    0.891923  -0.520838 -0.608809       rain   -2.664468  1.449505   \n",
       "\n",
       "     uvIndex  temperatureLow  temperatureMin  temperatureHigh  moonPhase  \\\n",
       "13 -0.842137        0.240366        0.463734         0.324073  -1.014191   \n",
       "60 -0.842137        1.290026        0.300003         0.242559  -0.909610   \n",
       "34 -0.842137        0.988069        1.100236         0.618160  -0.805029   \n",
       "31 -0.842137        0.505349        0.842360         0.319278  -0.665588   \n",
       "46 -0.842137        0.359505        0.564018         0.063550  -0.561007   \n",
       "\n",
       "      sunset   sunrise  \n",
       "13  17:00:00  07:00:00  \n",
       "60  17:00:00  07:00:00  \n",
       "34  17:00:00  07:00:00  \n",
       "31  17:00:00  07:00:00  \n",
       "46  16:00:00  07:00:00  "
      ]
     },
     "execution_count": 45,
     "metadata": {},
     "output_type": "execute_result"
    }
   ],
   "source": [
    "# Verifying change\n",
    "weatherclust_df.head()"
   ]
  },
  {
   "cell_type": "markdown",
   "metadata": {},
   "source": [
    " "
   ]
  },
  {
   "cell_type": "markdown",
   "metadata": {},
   "source": [
    "Factor Analysis of Mix Data - Considering our weather data contains both numerical and categorical variables, we needed a PCA-like analysis that could take into account these data types. Hence, why we chose FAMD. "
   ]
  },
  {
   "cell_type": "code",
   "execution_count": 46,
   "metadata": {},
   "outputs": [],
   "source": [
    "## Instantiate and FAMD object\n",
    "famd = FAMD(n_components = 17, engine='auto', check_input=True, random_state=123)\n",
    "famd = famd.fit(weatherclust_df.iloc[:, 1:])"
   ]
  },
  {
   "cell_type": "code",
   "execution_count": 47,
   "metadata": {},
   "outputs": [],
   "source": [
    "# Exploring inertia\n",
    "inertia_cumsum = np.cumsum(famd.explained_inertia_)"
   ]
  },
  {
   "cell_type": "code",
   "execution_count": 48,
   "metadata": {},
   "outputs": [
    {
     "data": {
      "image/png": "[encoded data removed]",
      "text/plain": [
       "<Figure size 648x432 with 1 Axes>"
      ]
     },
     "metadata": {
      "needs_background": "light"
     },
     "output_type": "display_data"
    }
   ],
   "source": [
    "# Plot inertia to find optimal n_components \n",
    "plt.figure(figsize = (9, 6))\n",
    "plt.plot(range(0, 17), inertia_cumsum, marker = 'x', linestyle = '--')\n",
    "plt.title('Explained Variance by Number of Components')\n",
    "plt.xlabel('Number of Components')\n",
    "plt.ylabel('Cumulative Explained Variance')\n",
    "plt.show()"
   ]
  },
  {
   "cell_type": "markdown",
   "metadata": {},
   "source": [
    "<div class=\"alert alert-block alert-info\">\n",
    "    We decided to keep the number of components that represented 90%+ of the data. Hence, we chose <b>6</b> as the optimal number of components for our FAMD analysis. \n",
    "</div>"
   ]
  },
  {
   "cell_type": "code",
   "execution_count": 49,
   "metadata": {},
   "outputs": [],
   "source": [
    "#Instantiate FAMD with optimal number of components (explain 90%+ of the data)\n",
    "famd = FAMD(n_components=6, engine='auto', check_input=True, random_state=123)\n",
    "famd = famd.fit_transform(weatherclust_df.iloc[:, 1:])\n",
    "famd_scores = np.array(famd)"
   ]
  },
  {
   "cell_type": "markdown",
   "metadata": {},
   "source": [
    " "
   ]
  },
  {
   "cell_type": "markdown",
   "metadata": {},
   "source": [
    "Clustering"
   ]
  },
  {
   "cell_type": "code",
   "execution_count": 50,
   "metadata": {},
   "outputs": [
    {
     "data": {
      "image/png": "[encoded data removed]",
      "text/plain": [
       "<Figure size 648x432 with 1 Axes>"
      ]
     },
     "metadata": {
      "needs_background": "light"
     },
     "output_type": "display_data"
    }
   ],
   "source": [
    "# Testing for optimal K\n",
    "distortions = []\n",
    "\n",
    "for k in range(1,10):\n",
    "    kmc = KMeans(n_clusters=k, max_iter = 1000, n_init = 20)\n",
    "    kmc.fit(famd_scores)\n",
    "    distortions.append(kmc.inertia_)\n",
    "    \n",
    "plt.figure(figsize=(9, 6))\n",
    "plt.plot(range(1,10), distortions, marker = 'o', linestyle = '--')\n",
    "plt.xlabel('K')\n",
    "plt.ylabel('Distortion')\n",
    "plt.title('The Elbow chart showing the optimal k')\n",
    "plt.axvline(x=4, color = 'g', linestyle = '--')\n",
    "plt.axvline(x=5, color = 'r', linestyle = '--')\n",
    "plt.show()"
   ]
  },
  {
   "cell_type": "markdown",
   "metadata": {},
   "source": [
    "<div class=\"alert alert-block alert-info\">\n",
    "    K = 5 was identified as the optimal k for the KMeans algorithm. Nevertheless, knowing that there are 4 seasons, we decided to shift to optimal <b>K = 4</b>\n",
    "</div>"
   ]
  },
  {
   "cell_type": "code",
   "execution_count": 51,
   "metadata": {},
   "outputs": [],
   "source": [
    "# Testing KMeans model with optimal K\n",
    "kmc = KMeans(n_clusters=4, max_iter = 1000, n_init = 20, random_state = 123)\n",
    "\n",
    "#Creating clusters\n",
    "clusters = kmc.fit_predict(famd_scores)"
   ]
  },
  {
   "cell_type": "markdown",
   "metadata": {},
   "source": [
    " "
   ]
  },
  {
   "cell_type": "markdown",
   "metadata": {},
   "source": [
    "With this analysis, we were able to identify patterns related to Season. Thus, we created a Season column in our original weather data set."
   ]
  },
  {
   "cell_type": "code",
   "execution_count": null,
   "metadata": {},
   "outputs": [],
   "source": [
    "# Concatenate weather_df with fmad_scores and clusters\n",
    "clusters_df = pd.concat([weatherclust_df.reset_index(drop = True), pd.DataFrame(famd_scores)], axis = 1)\n",
    "clusters_df.columns.values[-6: ] = [f'Component_{i}' for i in range(1,7)]\n",
    "clusters_df['Cluster'] = kmc.labels_"
   ]
  },
  {
   "cell_type": "code",
   "execution_count": null,
   "metadata": {},
   "outputs": [],
   "source": [
    "#Identifying seasons in clusters\n",
    "cluster0 = clusters_df[clusters_df['Cluster'] == 0]['day'].dt.month.value_counts()\n",
    "print('Value counts per month for cluster0:\\n\\n{}\\n\\n'.format(cluster0))\n",
    "cluster1 = clusters_df[clusters_df['Cluster'] == 1]['day'].dt.month.value_counts()\n",
    "print('Value counts per month for cluster1:\\n\\n{}\\n\\n'.format(cluster1))\n",
    "cluster2 = clusters_df[clusters_df['Cluster'] == 2]['day'].dt.month.value_counts()\n",
    "print('Value counts per month for cluster2:\\n\\n{}\\n\\n'.format(cluster2))\n",
    "cluster3 = clusters_df[clusters_df['Cluster'] == 3]['day'].dt.month.value_counts()\n",
    "print('Value counts per month for cluster3:\\n\\n{}\\n\\n'.format(cluster3))"
   ]
  },
  {
   "cell_type": "markdown",
   "metadata": {},
   "source": [
    "<div class=\"alert alert-block alert-info\">\n",
    "        It is clear that <b>Cluster0</b> and <b>Cluster2</b> can be represented as Summer and Winter, correspondingly. The remianing clusters required an additional interpretation: <b>Cluster1</b> will represent the time of the year in which Autumn and Spring are starting, while <b>Cluster3</b> when they are ending.\n",
    "</div>"
   ]
  },
  {
   "cell_type": "code",
   "execution_count": null,
   "metadata": {},
   "outputs": [],
   "source": [
    "#Add Labels to Clusters\n",
    "clusters_df['Season'] = clusters_df['Cluster'].map({0:'Summer', 1:'StartSpr/EndAut', 2:'Winter', 3:'EndSpr/StartAut'})"
   ]
  },
  {
   "cell_type": "code",
   "execution_count": null,
   "metadata": {},
   "outputs": [],
   "source": [
    "# Plotting Clusters\n",
    "my_plot = pex.scatter_3d(clusters_df, x = 'Component_1', y = 'Component_2', z = 'Component_3', \n",
    "                         color='Season', title=\"Season Clusters\")\n",
    "my_plot.show()"
   ]
  },
  {
   "cell_type": "markdown",
   "metadata": {},
   "source": [
    "- Combining findings of clustering to weather_df:"
   ]
  },
  {
   "cell_type": "code",
   "execution_count": null,
   "metadata": {},
   "outputs": [],
   "source": [
    "#Creating a Season column in weather_df\n",
    "weather_df['Season'] = clusters_df['Season']"
   ]
  },
  {
   "cell_type": "code",
   "execution_count": null,
   "metadata": {},
   "outputs": [],
   "source": [
    "#Verify Change\n",
    "weather_df.head()"
   ]
  },
  {
   "cell_type": "markdown",
   "metadata": {},
   "source": [
    "- Merging with daily_df"
   ]
  },
  {
   "cell_type": "code",
   "execution_count": null,
   "metadata": {},
   "outputs": [],
   "source": [
    "#Add daily_df data (daily average) to weather_df\n",
    "average_day = daily_df.groupby(daily_df['day'].dt.date).mean()\n",
    "average_day = average_day.reset_index()\n",
    "average_day['day'] = pd.to_datetime(average_day['day'])\n",
    "\n",
    "#Merge weather_df and average_day\n",
    "weather_df = weather_df.merge(average_day, on=(['day']))"
   ]
  },
  {
   "cell_type": "markdown",
   "metadata": {},
   "source": [
    "- Deleting duplicate rows:"
   ]
  },
  {
   "cell_type": "code",
   "execution_count": null,
   "metadata": {},
   "outputs": [],
   "source": [
    "weather_df.drop_duplicates('day', keep = 'first', ignore_index = True, inplace = True)"
   ]
  },
  {
   "cell_type": "code",
   "execution_count": null,
   "metadata": {},
   "outputs": [],
   "source": [
    "#Final Verify\n",
    "halfhour_df.head()"
   ]
  },
  {
   "cell_type": "markdown",
   "metadata": {},
   "source": [
    "## 3. Exporting Data Sets"
   ]
  },
  {
   "cell_type": "code",
   "execution_count": null,
   "metadata": {},
   "outputs": [],
   "source": [
    "#Creating the final dataset\n",
    "energy_df = halfhour_df.merge(weather_df, on=(['day']))\n",
    "energy_df.drop('energy_sum_y', axis = 1, inplace = True)\n",
    "energy_df.rename(columns = {'energy_sum_x': 'energy_sum'}, inplace = True)"
   ]
  },
  {
   "cell_type": "code",
   "execution_count": null,
   "metadata": {},
   "outputs": [],
   "source": [
    "#Export energy_df\n",
    "energy_df.to_csv('energy_df.csv', index = False)"
   ]
  }
 ],
 "metadata": {
  "kernelspec": {
   "display_name": "Python 3",
   "language": "python",
   "name": "python3"
  },
  "language_info": {
   "codemirror_mode": {
    "name": "ipython",
    "version": 3
   },
   "file_extension": ".py",
   "mimetype": "text/x-python",
   "name": "python",
   "nbconvert_exporter": "python",
   "pygments_lexer": "ipython3",
   "version": "3.7.4"
  }
 },
 "nbformat": 4,
 "nbformat_minor": 2
}
