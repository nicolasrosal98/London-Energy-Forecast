{
 "cells": [
  {
   "cell_type": "markdown",
   "metadata": {},
   "source": [
    "# SM_London - Exploratory Data Analysis"
   ]
  },
  {
   "cell_type": "code",
   "execution_count": 1,
   "metadata": {},
   "outputs": [
    {
     "name": "stderr",
     "output_type": "stream",
     "text": [
      "/opt/anaconda3/lib/python3.7/site-packages/statsmodels/tools/_testing.py:19: FutureWarning: pandas.util.testing is deprecated. Use the functions in the public API at pandas.testing instead.\n",
      "  import pandas.util.testing as tm\n"
     ]
    }
   ],
   "source": [
    "#Important Libraries\n",
    "import pandas as pd\n",
    "import numpy as np\n",
    "import matplotlib.pyplot as plt\n",
    "import seaborn as sns; sns.set(style=\"ticks\", color_codes=True)\n",
    "import math\n",
    "import missingno as msno\n",
    "from sklearn.ensemble import RandomForestRegressor\n",
    "\n",
    "%matplotlib inline"
   ]
  },
  {
   "cell_type": "markdown",
   "metadata": {},
   "source": [
    "### Importing Data"
   ]
  },
  {
   "cell_type": "code",
   "execution_count": 2,
   "metadata": {},
   "outputs": [],
   "source": [
    "energy_df = pd.read_csv('/Users/nicolasrosal/Desktop/Machine Learning Projects/SM_London/Datasets after Cleaning/energy_df.csv')\n"
   ]
  },
  {
   "cell_type": "code",
   "execution_count": null,
   "metadata": {},
   "outputs": [],
   "source": [
    "energy_df['uvIndex'] = energy_df['uvIndex'].replace([0,1,2], 'Low').replace([3,4,5], 'Medium').replace([6,7], 'High')"
   ]
  },
  {
   "cell_type": "markdown",
   "metadata": {},
   "source": [
    "### EDA"
   ]
  },
  {
   "cell_type": "code",
   "execution_count": null,
   "metadata": {},
   "outputs": [],
   "source": [
    "#Visualise data\n",
    "energy_df.head()"
   ]
  },
  {
   "cell_type": "markdown",
   "metadata": {},
   "source": [
    "     Univariate Analysis"
   ]
  },
  {
   "cell_type": "code",
   "execution_count": null,
   "metadata": {},
   "outputs": [],
   "source": [
    "#Describe Numerical Features\n",
    "energy_df.describe()"
   ]
  },
  {
   "cell_type": "code",
   "execution_count": null,
   "metadata": {},
   "outputs": [],
   "source": [
    "# Describe Categorical Features\n",
    "energy_df.describe(include=['O'])"
   ]
  },
  {
   "cell_type": "code",
   "execution_count": null,
   "metadata": {},
   "outputs": [],
   "source": [
    "# Check the starting and finishing date of dataset\n",
    "print(\"Start date is\", min(energy_df['day']))\n",
    "print(\"End date is\", max(energy_df['day']))"
   ]
  },
  {
   "cell_type": "code",
   "execution_count": null,
   "metadata": {},
   "outputs": [],
   "source": [
    "# Check population of Acorns in London\n",
    "energy_df['Acorn'].value_counts()"
   ]
  },
  {
   "cell_type": "code",
   "execution_count": null,
   "metadata": {},
   "outputs": [],
   "source": [
    "#Checking acorn agglomerations\n",
    "energy_df['Acorn_grouped'].unique()"
   ]
  },
  {
   "cell_type": "code",
   "execution_count": null,
   "metadata": {},
   "outputs": [],
   "source": [
    "#Checking elements under 'ACORN-' and 'ACORN-U'\n",
    "print(energy_df[energy_df['Acorn_grouped'] == 'ACORN-U']['Acorn'].unique())\n",
    "print(energy_df[energy_df['Acorn_grouped'] == 'ACORN-']['Acorn'].unique())"
   ]
  },
  {
   "cell_type": "code",
   "execution_count": null,
   "metadata": {},
   "outputs": [],
   "source": [
    "#Fixing the 'Acorn_grouped' column following the Acorn User Guide\n",
    "\n",
    "affluent = ['ACORN-A', 'ACORN-B', 'ACORN-C']\n",
    "rising = ['ACORN-D', 'ACORN-E']\n",
    "comfortable = ['ACORN-F', 'ACORN-G', 'ACORN-H', 'ACORN-I', 'ACORN-J']\n",
    "stretched = ['ACORN-K', 'ACORN-L', 'ACORN-M', 'ACORN-N']\n",
    "adversity = ['ACORN-O', 'ACORN-P', 'ACORN-Q']\n",
    "other = ['ACORN-U']\n",
    "\n",
    "groups = []\n",
    "\n",
    "for acorn in energy_df['Acorn']:\n",
    "    if acorn in affluent:\n",
    "        groups.append('Affluent')\n",
    "    elif acorn in comfortable:\n",
    "        groups.append('Comfortable')\n",
    "    elif acorn in rising:\n",
    "        groups.append('Rising')\n",
    "    elif acorn in stretched:\n",
    "        groups.append('Stretched')\n",
    "    elif acorn in adversity:\n",
    "        groups.append('Adversity')\n",
    "    elif acorn in other:\n",
    "        groups.append('Other')\n",
    "        \n",
    "energy_df['Acorn_grouped'] = groups"
   ]
  },
  {
   "cell_type": "code",
   "execution_count": null,
   "metadata": {},
   "outputs": [],
   "source": [
    "#Re-Checking acorn agglomerations\n",
    "energy_df['Acorn_grouped'].unique()"
   ]
  },
  {
   "cell_type": "code",
   "execution_count": null,
   "metadata": {},
   "outputs": [],
   "source": [
    "#Plot distributions of each feature (from: Daniel Martinez)\n",
    "def plot_distribution(dataset, cols=4, width=20, height=15, hspace=0.7, wspace=0.7):\n",
    "    plt.style.use('seaborn-whitegrid')\n",
    "    fig = plt.figure(figsize=(width,height))\n",
    "    fig.subplots_adjust(wspace=wspace, hspace=hspace)\n",
    "    rows = math.ceil(float(dataset.shape[1]) / cols)\n",
    "    for i, column in enumerate(dataset.columns):\n",
    "        ax = fig.add_subplot(rows, cols, i + 1)\n",
    "        ax.set_title(column)\n",
    "        if dataset.dtypes[column] == np.object:\n",
    "            g = sns.countplot(y=column, data=dataset)\n",
    "            substrings = [s.get_text()[:18] for s in g.get_yticklabels()]\n",
    "            g.set(yticklabels=substrings)\n",
    "            plt.xticks(rotation=25)\n",
    "        else:\n",
    "            g = sns.distplot(dataset[column])\n",
    "            plt.xticks(rotation=25)\n",
    "    \n",
    "plot_distribution(energy_df.drop(['LCLid','day','Acorn', 'Acorn_grouped', 'holiday'], axis = 1))"
   ]
  },
  {
   "cell_type": "code",
   "execution_count": null,
   "metadata": {},
   "outputs": [],
   "source": [
    "#Visualising Missing Values\n",
    "msno.bar(energy_df)\n",
    "plt.show()"
   ]
  },
  {
   "cell_type": "code",
   "execution_count": null,
   "metadata": {},
   "outputs": [],
   "source": [
    "#Function to retrieve outliers\n",
    "def find_outliers(dataset):\n",
    "    \n",
    "    outliers = {}\n",
    "    \n",
    "    for i in list(dataset.loc[:, dataset.dtypes != np.object]):\n",
    "        Q1 = dataset[i].quantile(0.25)\n",
    "        Q3 = dataset[i].quantile(0.75)\n",
    "        IQR = Q3 - Q1\n",
    "        num_outliers = ((dataset[i] < (Q1 - 1.5 * IQR)) | (dataset[i] > (Q3 + 1.5 * IQR)))\n",
    "        outliers[i] = num_outliers\n",
    "        \n",
    "    return outliers"
   ]
  },
  {
   "cell_type": "code",
   "execution_count": null,
   "metadata": {},
   "outputs": [],
   "source": [
    "#Testing for outliers\n",
    "def plot_box(dataset, cols=3, width=20, height=20, hspace=0.7, wspace=0.5):\n",
    "    \n",
    "    outliers = find_outliers(dataset)\n",
    "    \n",
    "    plt.style.use('seaborn-whitegrid')\n",
    "    fig = plt.figure(figsize=(width,height))\n",
    "    fig.subplots_adjust(wspace=wspace, hspace=hspace)\n",
    "    rows = math.ceil(float(dataset.shape[1]) / cols)\n",
    "    for i, column in enumerate(outliers.keys()):\n",
    "        ax = fig.add_subplot(rows, cols, i + 1)\n",
    "        g = sns.boxplot(dataset[column])\n",
    "        ax.set_title('Box plot of {}. Outliers: {}'.format(column, outliers[column].sum()))\n",
    "    \n",
    "plot_box(energy_df.drop('holiday', axis = 1))\n",
    "plt.style.use('default')"
   ]
  },
  {
   "cell_type": "markdown",
   "metadata": {},
   "source": [
    "<div class=\"alert alert-block alert-info\">\n",
    "    We have identified that <b>'visibility'</b> presents a high number of outliers (given that its skewed to the left). We will further explore these outliers to verify if their values make sense. Given that visibility can change significantly during certain days of the year, removing these would not be pertinent (unless they are unreasonable values). Moreover, we have identified outliers in <b>'energy_sum', 'Avg.Dawn', 'Avg.Morning_Afternoon', 'Avg.Evening'</b>, and <b>'Avg.Night'</b>. We will also explore these values to verify if they are reasonable given the scale and nature of the data.\n",
    "</div>"
   ]
  },
  {
   "cell_type": "code",
   "execution_count": null,
   "metadata": {},
   "outputs": [],
   "source": [
    "# Dictionary of Boolean masks of outliers per column\n",
    "outliers_dict = find_outliers(energy_df)"
   ]
  },
  {
   "cell_type": "markdown",
   "metadata": {},
   "source": [
    "     Multivariate Analysis"
   ]
  },
  {
   "cell_type": "code",
   "execution_count": null,
   "metadata": {},
   "outputs": [],
   "source": [
    "def outliers_vs_season(column):\n",
    "    outliers = energy_df[outliers_dict[column] == True]\n",
    "    outlier_season = outliers.groupby('Season')[column].size()\n",
    "    \n",
    "    num_outliers = []\n",
    "    seasons = ['Winter', 'Summer', 'StartSpr/EndAut', 'EndSpr/StartAut']\n",
    "\n",
    "    for season in seasons:\n",
    "        num_outliers.append(outlier_season[season])\n",
    "    \n",
    "    sns.barplot(seasons, num_outliers)\n",
    "    plt.title('Number of outliers per Season')\n",
    "    plt.xlabel('Season')\n",
    "    plt.ylabel('Number of Outliers:' + str(column))\n",
    "    plt.show()"
   ]
  },
  {
   "cell_type": "code",
   "execution_count": null,
   "metadata": {},
   "outputs": [],
   "source": [
    "## Exploring 'visibility' outliers\n",
    "outliers_vs_season('visibility')"
   ]
  },
  {
   "cell_type": "code",
   "execution_count": null,
   "metadata": {},
   "outputs": [],
   "source": [
    "outliers_vs_season('energy_sum')"
   ]
  },
  {
   "cell_type": "markdown",
   "metadata": {},
   "source": [
    "<div class=\"alert alert-block alert-info\">\n",
    "Given that visibility can change significantly during certain days of the year, removing these would not be pertinent (unless they are unreasonable values). In this case, it is evidenced that most of the outliers occur in <b> Winter </b>  and <b>StartSpr/EndAut</b> which makes makes sense as visibility decreases during colder periods. Similarly, it has been found that households tend to consume more energy during colder climates. Hence, <b>'energy_sum', 'Avg.Dawn', 'Avg.Morning_Afternoon', 'Avg.Evening'</b>, and <b>'Avg.Night'</b> outliers will be kept. \n",
    "    <div>"
   ]
  },
  {
   "cell_type": "code",
   "execution_count": null,
   "metadata": {},
   "outputs": [],
   "source": [
    "#Percentage of outliers in data\n",
    "energy_outliers = energy_df[outliers_dict['energy_sum'] == True]\n",
    "energy_outliers_df = pd.DataFrame(energy_outliers[['LCLid', 'Season', 'energy_sum', 'Acorn']])\n",
    "\n",
    "energy_outliers_df.shape[0]/energy_df.shape[0]"
   ]
  },
  {
   "cell_type": "code",
   "execution_count": null,
   "metadata": {},
   "outputs": [],
   "source": [
    "#Correlation Heatmap\n",
    "corr = energy_df.corr()\n",
    "mask = np.triu(np.ones_like(corr, dtype=np.bool))\n",
    "\n",
    "plt.figure(figsize=(15, 14))\n",
    "\n",
    "ax = sns.heatmap(\n",
    "    corr, mask = mask, \n",
    "    vmin = -1, vmax = 1, center = 0,\n",
    "    cmap = 'YlOrBr',\n",
    "    square = True, \n",
    "    annot = True)\n",
    "\n",
    "ax.set_xticklabels(\n",
    "    ax.get_xticklabels(),\n",
    "    rotation=45,\n",
    "    horizontalalignment='right')\n",
    "\n",
    "plt.title('CORRELATION HEATMAP', fontweight=\"bold\")\n",
    "plt.show()"
   ]
  },
  {
   "cell_type": "markdown",
   "metadata": {},
   "source": [
    "<div class=\"alert alert-block alert-info\">\n",
    "    <p>With the correlation heatmap, we identified the following:</p>\n",
    "        <p>- 'temperatureMax' appears to have a  <b>strong positive correlation</b> (0.85 +) with 'temperatureLow', 'temperatureMin','temperatureHigh', and 'dewPoint'</p>\n",
    "        <p>- 'dewPoint' appears to have a  <b>strong positive correlation</b> (0.85 +) with 'temperatureLow', 'temperatureMin','temperatureHigh', and 'temperatureMax'</p>\n",
    "        <p>- 'temperatureLow' appears to have a <b>strong positive correlation</b> (0.85 +) with 'temperatureHigh' and 'temperatureMin'</p>\n",
    "        <p>- 'temperatureMax' appears to have a <b>strong negative correlation</b> (-0.85 -) with 'energy_sum'</p>\n",
    "        <p>- 'temperatureMin' appears to have a <b>strong negative correlation</b> (0.80+) with 'energy_sum'</p>\n",
    "        <p>- 'temperatureHigh' appears to have a <b>strong negative correlation</b> (0.80+) with 'energy_sum'</p>\n",
    "        <p>- 'energy_sum' appears to have a <b>strong positive correlation</b> (0.80+) with 'Avg.Dawn', 'Avg.Morning_Afternoon', 'Avg.Evening', and 'Avg.Night'</p>\n",
    "</div>"
   ]
  },
  {
   "cell_type": "code",
   "execution_count": null,
   "metadata": {},
   "outputs": [],
   "source": [
    "#Pairplot of features with strong negative/positive correlation\n",
    "corr_features1 = ['temperatureMax', 'temperatureLow', 'temperatureMin', 'temperatureHigh', 'dewPoint']\n",
    "corr_features2 = ['Avg.Dawn', 'Avg.Morning_Afternoon', 'Avg.Evening','Avg.Night', 'energy_sum']"
   ]
  },
  {
   "cell_type": "code",
   "execution_count": null,
   "metadata": {},
   "outputs": [],
   "source": [
    "#Pairwise plot 1\n",
    "sns.set(style=\"ticks\", color_codes=True)\n",
    "sns.pairplot(energy_df[corr_features1], diag_kind=\"kde\")\n",
    "plt.show()"
   ]
  },
  {
   "cell_type": "code",
   "execution_count": null,
   "metadata": {},
   "outputs": [],
   "source": [
    "#Pairwise plot 2\n",
    "sns.set(style=\"ticks\", color_codes=True)\n",
    "sns.pairplot(energy_df[corr_features2], diag_kind=\"kde\")\n",
    "plt.show()"
   ]
  },
  {
   "cell_type": "code",
   "execution_count": null,
   "metadata": {},
   "outputs": [],
   "source": [
    "#Dropping correlated variables\n",
    "energy_df.drop(['temperatureLow', 'temperatureMin', 'temperatureHigh', 'dewPoint'], axis = 1, inplace = True)"
   ]
  },
  {
   "cell_type": "markdown",
   "metadata": {},
   "source": [
    "<div class=\"alert alert-block alert-info\">\n",
    "    <p>- 'temperatureMax' was selected out of the other variables for the following reasons: 1) reduce high dimensionality, 2) hotter days have higher minimum temperatures, and  3) 'temperatureLow' and 'temperatureHigh' showed a similar behaviour to 'temperatureMin' and 'temperatureMax' (these information is contained within 'temperatureMax') </p>\n",
    "    <p>- We have identified a very strong correlation between 'Avg.Dawn', 'Avg.Morning_Afternoon', 'Avg.Evening','Avg.Night', and 'energy_sum'. Nevertheless, we decided to keep all these features for modelling but we will keep in mind this findings in order to avoid undesired outcomes due to the correlation. </p>\n",
    "</div>"
   ]
  },
  {
   "cell_type": "code",
   "execution_count": null,
   "metadata": {},
   "outputs": [],
   "source": [
    "#Violin plots vs Season\n",
    "def plot_violin(dataset, cols=3, width=20, height=20, hspace=0.7, wspace=0.5):\n",
    "    \n",
    "    fig = plt.figure(figsize=(width,height))\n",
    "    fig.subplots_adjust(wspace=wspace, hspace=hspace)\n",
    "    rows = math.ceil(float(dataset.shape[1]) / cols)\n",
    "    for i, column in enumerate(list(dataset.loc[:, dataset.dtypes != np.object])):\n",
    "        ax = fig.add_subplot(rows, cols, i + 1)\n",
    "        g = sns.violinplot(x='Season', y = column, data = dataset)\n",
    "        ax.set_title('Box plot of {}'.format(column))\n",
    "    \n",
    "plot_violin(energy_df.drop(['Avg.Dawn', 'Avg.Morning_Afternoon', 'Avg.Evening','Avg.Night', 'holiday', 'energy_sum'],\n",
    "                           axis = 1))\n",
    "plt.style.use('default')"
   ]
  },
  {
   "cell_type": "code",
   "execution_count": null,
   "metadata": {},
   "outputs": [],
   "source": [
    "#Energy sum vs Time\n",
    "plt.style.use('default')\n",
    "\n",
    "energy_df['day'] = pd.to_datetime(energy_df['day'])\n",
    "day = pd.DataFrame(energy_df.groupby('day'))\n",
    "\n",
    "# Plot day vs energy_sum\n",
    "plt.figure(figsize=(20, 8))\n",
    "\n",
    "plt.plot(day[0], energy_df.groupby('day').mean()['energy_sum'])\n",
    "plt.title('Energy Sum vs Time', fontsize = 15)\n",
    "plt.ylabel('Energy Sum (kWh)', fontsize = 12)\n",
    "plt.xlabel('Day', fontsize = 12)\n",
    "\n",
    "xcoords = ['2012-01-01', '2013-01-01', '2014-01-01']\n",
    "for xc in xcoords:\n",
    "    x = pd.to_datetime(xc)\n",
    "    plt.axvline(x=x.date(), color = 'r', linestyle = '--')\n",
    "    \n",
    "plt.show()"
   ]
  },
  {
   "cell_type": "code",
   "execution_count": null,
   "metadata": {},
   "outputs": [],
   "source": [
    "#Averages per time of day vs Time\n",
    "plt.style.use('default')\n",
    "\n",
    "energy_df['day'] = pd.to_datetime(energy_df['day'])\n",
    "day = pd.DataFrame(energy_df.groupby('day'))\n",
    "\n",
    "# Plot day vs energy_sum\n",
    "fig = plt.figure(figsize=(22,22))\n",
    "fig.subplots_adjust(wspace=0.3, hspace=0.2)\n",
    "\n",
    "for i, column in enumerate(['Avg.Dawn', 'Avg.Morning_Afternoon', 'Avg.Evening','Avg.Night']):\n",
    "    ax = fig.add_subplot(2, 2, i + 1)\n",
    "    plt.plot(day[0], energy_df.groupby('day').mean()[column])\n",
    "    ax.set_title('{} vs Time'.format(column), fontsize = 15)\n",
    "    ax.set_ylabel('{} (kWh)'.format(column), fontsize = 12)\n",
    "    ax.set_xlabel('Day', fontsize = 12)\n",
    "    ax.set_ylim(0, 0.50)\n",
    "    \n",
    "    xcoords = ['2012-01-01', '2013-01-01', '2014-01-01']\n",
    "    for xc in xcoords:\n",
    "        x = pd.to_datetime(xc)\n",
    "        plt.axvline(x=x.date(), color = 'r', linestyle = '--')\n",
    "        \n",
    "plt.show()"
   ]
  },
  {
   "cell_type": "code",
   "execution_count": null,
   "metadata": {},
   "outputs": [],
   "source": [
    "#Averages per time of day vs Time (one plot)\n",
    "plt.figure(figsize=(20, 8))\n",
    "\n",
    "for column in ['Avg.Dawn', 'Avg.Morning_Afternoon', 'Avg.Evening','Avg.Night']:\n",
    "    plt.plot(day[0], energy_df.groupby('day').mean()[column], label=column, linewidth = 1)\n",
    "\n",
    "plt.title('Average Use of Energy per Hour of Day vs Time')\n",
    "plt.ylabel('Avg.Energy (kWh)', fontsize = 15)\n",
    "plt.xlabel('Day', fontsize = 15)\n",
    "plt.legend(loc=\"upper right\")\n",
    "    \n",
    "plt.show()"
   ]
  },
  {
   "cell_type": "code",
   "execution_count": null,
   "metadata": {},
   "outputs": [],
   "source": [
    "#Energy per Contract Type vs Time\n",
    "plt.figure(figsize=(20, 8))\n",
    "for value in ['Std', 'ToU']:\n",
    "    contract_type = energy_df[energy_df['stdorToU'] == value]\n",
    "    plt.plot(day[0], contract_type.groupby('day').mean()['energy_sum'], label=value, linewidth = 1)\n",
    "\n",
    "plt.title('Use of Energy per contract type vs Time')\n",
    "plt.ylabel('Avg.Energy (kWh)', fontsize = 15)\n",
    "plt.xlabel('Day', fontsize = 15)\n",
    "plt.legend(loc=\"upper right\")\n",
    "    \n",
    "plt.show()"
   ]
  },
  {
   "cell_type": "code",
   "execution_count": null,
   "metadata": {},
   "outputs": [],
   "source": [
    "#Energy per Contract Type (time of day) vs Time\n",
    "plt.style.use('default')\n",
    "\n",
    "fig = plt.figure(figsize=(22,22))\n",
    "fig.subplots_adjust(wspace=0.3, hspace=0.2)\n",
    "for i, column in enumerate(['Avg.Dawn', 'Avg.Morning_Afternoon', 'Avg.Evening','Avg.Night']):\n",
    "    for value in ['Std', 'ToU']:\n",
    "        ax = fig.add_subplot(2, 2, i + 1)\n",
    "        contract_type = energy_df[energy_df['stdorToU'] == value]\n",
    "        plt.plot(day[0], contract_type.groupby('day').mean()[column], label=value, linewidth = 1)\n",
    "        ax.set_title('Contract Type in {} vs Time'.format(column), fontsize = 15)\n",
    "        ax.set_ylabel('Average Energy Use (kWh)'.format(column), fontsize = 12)\n",
    "        ax.set_xlabel('Day', fontsize = 12)\n",
    "        ax.set_ylim(0, 0.50)\n",
    "        #ax.set_xticklabels([])\n",
    "        plt.legend(loc=\"upper right\")\n",
    "    \n",
    "plt.show()"
   ]
  },
  {
   "cell_type": "code",
   "execution_count": null,
   "metadata": {},
   "outputs": [],
   "source": [
    "#Function to create text in graphs ()\n",
    "def autolabel(rects):\n",
    "    \"\"\"Attach a text label above each bar in *rects*, displaying its height.\"\"\"\n",
    "    for rect in rects:\n",
    "        height = rect.get_height()\n",
    "        ax.annotate('{}'.format(height),\n",
    "                    xy=(rect.get_x() + rect.get_width() / 2, height),\n",
    "                    xytext=(0, 3),\n",
    "                    textcoords=\"offset points\",\n",
    "                    ha='center', va='bottom')"
   ]
  },
  {
   "cell_type": "code",
   "execution_count": null,
   "metadata": {},
   "outputs": [],
   "source": [
    "#Average Energy Use by Contract Type and Time of Day\n",
    "labels = ['Dawn', 'Morning-Afternoon', 'Evening', 'Night']\n",
    "values = energy_df.groupby('stdorToU').mean()[['Avg.Dawn', 'Avg.Morning_Afternoon', 'Avg.Evening', 'Avg.Night']].to_numpy()\n",
    "std = list(np.around(values[0],2))\n",
    "tou = list(np.around(values[1],2))\n",
    "\n",
    "x = np.arange(len(labels))  \n",
    "width = 0.35\n",
    "\n",
    "fig, ax = plt.subplots(figsize=(10,7))\n",
    "rects1 = ax.bar(x - width/2, std, width, label='Standard')\n",
    "rects2 = ax.bar(x + width/2, tou, width, label='Time of Use')\n",
    "\n",
    "ax.set_ylabel('Average Energy Use (kWh)')\n",
    "ax.set_title('Average Energy Use by Contract Type and Time of Day')\n",
    "ax.set_xticks(x)\n",
    "ax.set_xticklabels(labels)\n",
    "ax.legend()\n",
    "\n",
    "autolabel(rects1)\n",
    "autolabel(rects2)\n",
    "\n",
    "fig.tight_layout()\n",
    "\n",
    "plt.show()"
   ]
  },
  {
   "cell_type": "code",
   "execution_count": null,
   "metadata": {},
   "outputs": [],
   "source": [
    "#Average Energy per Acorn \n",
    "labels_ac = energy_df['Acorn'].unique()\n",
    "values_ac = energy_df.groupby('Acorn').mean()['energy_sum'].to_numpy()\n",
    "average = list(np.around(values_ac,2))\n",
    "\n",
    "fig, ax = plt.subplots(figsize=(10,7))\n",
    "\n",
    "for i, label in enumerate(labels_ac):\n",
    "    plt.bar(label, average[i], width = 0.35, label = label, color = 'b')\n",
    "    plt.text(label, average[i] + 0.15, str(average[i]), horizontalalignment='center', fontsize = 8)\n",
    "        \n",
    "plt.title('Average Energy Use by Acorn')\n",
    "plt.xlabel('Acorn')\n",
    "plt.ylabel('Average Energy Use (kWh)')\n",
    "plt.xticks(rotation = 90)\n",
    "\n",
    "plt.show()"
   ]
  },
  {
   "cell_type": "code",
   "execution_count": null,
   "metadata": {},
   "outputs": [],
   "source": [
    "#Average Energy per Acorn vs Time\n",
    "plt.figure(figsize=(30, 20))\n",
    "for value in energy_df['Acorn'].unique():\n",
    "    acorn = energy_df[energy_df['Acorn'] == value]\n",
    "    acorn_df = pd.DataFrame(acorn.groupby('day'))\n",
    "    plt.plot(acorn_df[0], acorn.groupby('day').mean()['energy_sum'], label=value, linewidth = 1)\n",
    "\n",
    "plt.title('Use of Energy per Acorn vs Time', fontsize = 18)\n",
    "plt.ylabel('Avg.Energy (kWh)', fontsize = 18)\n",
    "plt.xlabel('Day', fontsize = 18)\n",
    "plt.xticks(fontsize = 18)\n",
    "plt.yticks(fontsize = 18)\n",
    "plt.legend(loc=\"upper right\", prop={'size': 20})\n",
    "\n",
    "    \n",
    "plt.show()"
   ]
  },
  {
   "cell_type": "code",
   "execution_count": null,
   "metadata": {},
   "outputs": [],
   "source": [
    "#Average Energy Use per Acorn by Time of Day\n",
    "plt.style.use('default')\n",
    "\n",
    "labels_aco = pd.DataFrame(energy_df.groupby('Acorn'))[0]\n",
    "\n",
    "fig = plt.figure(figsize=(22,22))\n",
    "fig.subplots_adjust(wspace=0.3, hspace=0.2)\n",
    "for i, column in enumerate(['Avg.Dawn', 'Avg.Morning_Afternoon', 'Avg.Evening','Avg.Night']):\n",
    "    ax = fig.add_subplot(2, 2, i + 1)\n",
    "    plt.bar(labels_aco, energy_df.groupby('Acorn').mean()[column])\n",
    "    ax.set_title('{} Energy Use per Acorn'.format(column), fontsize = 15)\n",
    "    ax.set_ylabel('Average Energy Use (kWh)'.format(column), fontsize = 12)\n",
    "    ax.set_xlabel('Acorn', fontsize = 12)\n",
    "    ax.set_xticklabels(labels_aco, rotation = 90, fontsize = 12)\n",
    "    ax.set_ylim(0, 0.55)\n",
    "    \n",
    "plt.show()"
   ]
  },
  {
   "cell_type": "markdown",
   "metadata": {},
   "source": [
    "     Feature Importance and Elimination"
   ]
  },
  {
   "cell_type": "code",
   "execution_count": null,
   "metadata": {},
   "outputs": [],
   "source": [
    "##Preparing Data for Feature Importance analysis\n",
    "#One-Hot Encode 'stdorToU', 'Acorn', 'Acorn_grouped', icon, precipType, uvIndex, Sunrise, Sunset, and Season\n",
    "\n",
    "energyohe_df = pd.get_dummies(energy_df, columns=['sunset', 'sunrise'],\n",
    "                           prefix=['ohe_sunset', 'ohe_sunrise'])\n",
    "energyohe_df = pd.get_dummies(energy_df, columns=['stdorToU', 'Acorn', 'Acorn_grouped', 'icon', 'precipType',\n",
    "                                              'uvIndex', 'Season'],\n",
    "                           prefix=['ohe', 'ohe', 'ohe', 'oheicon', 'oheprecipType', 'oheuv', 'ohe'], \n",
    "                           drop_first = True)"
   ]
  },
  {
   "cell_type": "code",
   "execution_count": null,
   "metadata": {},
   "outputs": [],
   "source": [
    "#Checking changes \n",
    "with pd.option_context('display.max_rows', None, 'display.max_columns', None):\n",
    "    display(energyohe_df.head())"
   ]
  },
  {
   "cell_type": "code",
   "execution_count": null,
   "metadata": {},
   "outputs": [],
   "source": [
    "#Creating X and y\n",
    "X = energyohe_df.drop(['energy_sum', 'LCLid', 'day'], axis = 1)\n",
    "y = energyohe_df['energy_sum']"
   ]
  },
  {
   "cell_type": "code",
   "execution_count": null,
   "metadata": {},
   "outputs": [],
   "source": [
    "# Random Forest for Feature Importance\n",
    "rf = RandomForestRegressor()\n",
    "model = rf.fit(X, y)\n",
    "importances = model.feature_importances_"
   ]
  },
  {
   "cell_type": "code",
   "execution_count": null,
   "metadata": {},
   "outputs": [],
   "source": [
    "#Plotting Feature Importance\n",
    "plt.style.use('seaborn-whitegrid')\n",
    "importances = pd.DataFrame(importances, index=X.columns, columns=[\"Importance\"])\n",
    "importance.sort_values(by='Importance', ascending=True).plot(kind='barh', figsize=(20,len(importance)/2))"
   ]
  },
  {
   "cell_type": "markdown",
   "metadata": {},
   "source": [
    "     Preparing Final DataFrames"
   ]
  },
  {
   "cell_type": "markdown",
   "metadata": {},
   "source": [
    "<div class=\"alert alert-block alert-info\">\n",
    "    <b> Conclusions: <b/>\n",
    "    <\n",
    "        \n",
    "</div>"
   ]
  },
  {
   "cell_type": "markdown",
   "metadata": {},
   "source": [
    "- Overall Energy Sum per Day (energymodel_df)"
   ]
  },
  {
   "cell_type": "code",
   "execution_count": null,
   "metadata": {},
   "outputs": [],
   "source": [
    "energymodel_df = energyohe_df.groupby('day').mean()[['Avg.Dawn', 'Avg.Morning_Afternoon', \n",
    "                                                  'Avg.Evening', 'Avg.Night','ohe_StartSpr/EndAut', \n",
    "                                                  'ohe_Summer', 'ohe_Winter', 'energy_sum']]\n",
    "energymodel_df"
   ]
  },
  {
   "cell_type": "markdown",
   "metadata": {},
   "source": [
    "- Creating DataFrame with Acorns for Analysis in Modelling Section (acornmodel_df)"
   ]
  },
  {
   "cell_type": "code",
   "execution_count": null,
   "metadata": {},
   "outputs": [],
   "source": [
    "acornmodel_df = pd.get_dummies(energy_df, columns=['Season'], prefix=['ohe'], \n",
    "                           drop_first = True)\n",
    "acornmodel_df = acornmodel_df[['Acorn', 'day', 'Avg.Dawn', 'Avg.Morning_Afternoon', \n",
    "                               'Avg.Evening', 'Avg.Night', 'ohe_StartSpr/EndAut', \n",
    "                               'ohe_Summer', 'ohe_Winter', 'energy_sum']]\n",
    "acornmodel_df"
   ]
  },
  {
   "cell_type": "markdown",
   "metadata": {},
   "source": [
    "### Exporting Data"
   ]
  },
  {
   "cell_type": "code",
   "execution_count": null,
   "metadata": {},
   "outputs": [],
   "source": [
    "#Exporting energymodel_df\n",
    "energymodel_df.to_csv('energymodel_df.csv', index = True)"
   ]
  },
  {
   "cell_type": "code",
   "execution_count": null,
   "metadata": {},
   "outputs": [],
   "source": [
    "#Exporting acornmodel_df\n",
    "acornmodel_df.to_csv('acornmodel_df.csv', index = False)"
   ]
  }
 ],
 "metadata": {
  "kernelspec": {
   "display_name": "Python 3",
   "language": "python",
   "name": "python3"
  },
  "language_info": {
   "codemirror_mode": {
    "name": "ipython",
    "version": 3
   },
   "file_extension": ".py",
   "mimetype": "text/x-python",
   "name": "python",
   "nbconvert_exporter": "python",
   "pygments_lexer": "ipython3",
   "version": "3.7.4"
  }
 },
 "nbformat": 4,
 "nbformat_minor": 2
}
